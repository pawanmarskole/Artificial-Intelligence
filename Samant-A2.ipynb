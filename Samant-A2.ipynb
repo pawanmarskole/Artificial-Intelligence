{
 "cells": [
  {
   "cell_type": "markdown",
   "metadata": {},
   "source": [
    "# Assignment 2: Iterative-Deepening Search"
   ]
  },
  {
   "cell_type": "markdown",
   "metadata": {},
   "source": [
    "Yashad Samant"
   ]
  },
  {
   "cell_type": "markdown",
   "metadata": {},
   "source": [
    "## Overview"
   ]
  },
  {
   "cell_type": "markdown",
   "metadata": {},
   "source": [
    "Objective of this assignment is to implement Iterative Deepening Search algorithm which is an upgrade on depth search method implemented in previous assignment. Depth search algorithm consumes ample amount of time to get to the result. Thus, to reduce time, depth limited search was formed but for complex problems limited depth cannot be a solution hence, iterative deepening search. This method shares similarities with breadth search method except it does not consume a lot of memory."
   ]
  },
  {
   "cell_type": "markdown",
   "metadata": {},
   "source": [
    "## Required Code"
   ]
  },
  {
   "cell_type": "markdown",
   "metadata": {},
   "source": [
    "In this jupyter notebook, we have implemented the following functions:\n",
    "\n",
    "  * `iterativeDeepeningSearch(startState, goalState, actionsF, takeActionF, maxDepth)`\n",
    "  * `depthLimitedSearch(startState, goalState, actionsF, takeActionF, depthLimit)`\n",
    "  \n",
    "`depthLimitedSearch` is called by `iterativeDeepeningSearch` with `depthLimit`s of $0, 1, \\ldots, $ `maxDepth`. Both must return either the solution path as a list of states, or the strings `cutoff` or `failure`.  `failure` signifies that all states were searched and the goal was not found. \n",
    "\n",
    "Each receives the arguments\n",
    "\n",
    "  * the starting state, \n",
    "  * the goal state,\n",
    "  * a function `actionsF` that is given a state and returns a list of valid actions from that state,\n",
    "  * a function `takeActionF` that is given a state and an action and returns the new state that results from applying the action to the state,\n",
    "  * either a `depthLimit` for `depthLimitedSearch`, or `maxDepth` for `iterativeDeepeningSearch`."
   ]
  },
  {
   "cell_type": "code",
   "execution_count": 1,
   "metadata": {
    "collapsed": true
   },
   "outputs": [],
   "source": [
    "# Importing libraries\n",
    "import numpy as np\n",
    "import copy as copy"
   ]
  },
  {
   "cell_type": "markdown",
   "metadata": {},
   "source": [
    "Depth Limited search algorithm computes the result based on other functions. \n",
    "* Initially, there are few checks to avoid integer, tuple errors.\n",
    "* Then, there is an iteration to the number of valid actions. We try to find the best child state by recursively using the depthLimitedSearch function within the for loop, so it tests for every action.\n",
    "* Then, we check is there is a cutoff or failure, if not we append the obtained child state in the result and return it.\n",
    "\n",
    "Iterative Limited Search just calls the depth limited search function iteratively until the max depth is reached. We decrease the max depth within the depth limited search function\n"
   ]
  },
  {
   "cell_type": "code",
   "execution_count": 2,
   "metadata": {
    "collapsed": false
   },
   "outputs": [],
   "source": [
    "\n",
    "def depthLimitedSearch(state, goalState, actionsF, takeActionF, depthLimit):\n",
    "    if type(state[0]) == int:\n",
    "        state = printState_8p(state)\n",
    "    if type(goalState[0]) == int:\n",
    "        goalState = printState_8p(goalState)\n",
    "    if state == goalState:\n",
    "        return []\n",
    "    if depthLimit == 0:\n",
    "        return 'cutoff'\n",
    "    cutoffOccurred = False\n",
    "    for action in actionsF(state):\n",
    "        childState = takeActionF(state, action)\n",
    "        result = depthLimitedSearch(childState, goalState, actionsF, takeActionF, depthLimit-1)\n",
    "        if result == 'cutoff':\n",
    "            cutoffOccurred = True\n",
    "        elif result != 'failure':\n",
    "            result.insert(0,childState)\n",
    "            return result\n",
    "    if cutoffOccurred:\n",
    "        return 'cutoff'\n",
    "    else:\n",
    "        return 'failure'       \n",
    "\n",
    "def iterativeDeepeningSearch(startState, goalState, actionsF, takeActionF, maxDepth):\n",
    "    if type(startState[0]) == int:\n",
    "        startState = printState_8p(startState)\n",
    "    if type(goalState[0]) == int:\n",
    "        goalState = printState_8p(goalState)\n",
    "    for depth in range(maxDepth):\n",
    "        result = depthLimitedSearch(startState, goalState, actionsF, takeActionF, depth)\n",
    "        if result is 'failure':\n",
    "            return 'failure'\n",
    "        if result is not 'cutoff':\n",
    "\n",
    "            if type(startState) == str:\n",
    "                result.insert(0,startState) \n",
    "            else:\n",
    "                state = [item for sublist in startState for item in sublist]\n",
    "                result.insert(0,state)   \n",
    "            #print('result', result)\n",
    "            return result\n",
    "    return 'cutoff'\n"
   ]
  },
  {
   "cell_type": "markdown",
   "metadata": {},
   "source": [
    "## 8-puzzle problem\n",
    "\n",
    "Here, we have defined five functions.\n",
    "* printState_8p - This function converts the original list in an array form so that we can get the exact position of the blank space.\n",
    "\n",
    "* findBlank_8p - This function iterates through the array and find the blank space.\n",
    "\n",
    "* actionState_8p - It is responsible for finding the valid actions based on the blank space. It's just made out of different checks.\n",
    "\n",
    "* takeAction_8p - Based on the obtained valid action, it just swaps the position with the corresponding element and returns the list."
   ]
  },
  {
   "cell_type": "code",
   "execution_count": 3,
   "metadata": {
    "collapsed": false
   },
   "outputs": [],
   "source": [
    "def printState_8p(startState):\n",
    "    state = [[startState[0],startState[1],startState[2]],[startState[3],startState[4],startState[5]],[startState[6],startState[7],startState[8]]]\n",
    "    return state\n",
    "\n",
    "def findBlank_8p(state):\n",
    "    i = 0\n",
    "    j = 0\n",
    "    if type(state[0]) == int:\n",
    "        state = printState_8p(state)\n",
    "    for subi in state:\n",
    "        for subj in subi:\n",
    "            if state[i][j] == 0:\n",
    "                return i,j\n",
    "            j=j+1\n",
    "        i=i+1\n",
    "        j = 0\n",
    "    i = 0\n",
    "\n",
    "def actionsF_8p(state):\n",
    "    action_list = ['left', 'right', 'up', 'down']\n",
    "    if type(state[0]) == int:\n",
    "        state = printState_8p(state)    \n",
    "    i,j = findBlank_8p(state)\n",
    "    if i == 0 and j == 0:\n",
    "        valid_action = [action_list[1], action_list[3]]\n",
    "    if i == 2 and j == 2:\n",
    "        valid_action = [action_list[0], action_list[2]]\n",
    "    if i == 0 and j == 2:\n",
    "        valid_action = [action_list[0], action_list[3]]\n",
    "    if i == 2 and j == 0:\n",
    "        valid_action = [action_list[1], action_list[2]]\n",
    "    if  i == 1 and j == 0:\n",
    "        valid_action = [action_list[1], action_list[2], action_list[3]]\n",
    "    if i == 1 and j ==2:\n",
    "        valid_action = [action_list[0], action_list[2], action_list[3]]\n",
    "    if i == 0 and j == 1:\n",
    "        valid_action = [action_list[0], action_list[1], action_list[3]]\n",
    "    if i == 2 and j == 1:\n",
    "        valid_action = [action_list[0], action_list[1], action_list[2]]\n",
    "    if i == 1 and j == 1:\n",
    "        valid_action = [action_list[0], action_list[1], action_list[2], action_list[3]]\n",
    "    \n",
    "    return valid_action\n",
    "\n",
    "def takeActionF_8p(state2, action):\n",
    "    if type(state2[0]) == int:\n",
    "        state2 = printState_8p(state2)\n",
    "    state1 = copy.deepcopy(state2)\n",
    "    i,j = findBlank_8p(state1)\n",
    "    if action == 'left':\n",
    "        temp = state1[i][j-1]\n",
    "        state1[i][j-1] = state1[i][j]\n",
    "        state1[i][j] = temp\n",
    "        state1 = [item for sublist in state1 for item in sublist]\n",
    "        return state1\n",
    "    if action == 'right':\n",
    "        temp = state1[i][j+1]\n",
    "        state1[i][j+1] = state1[i][j]\n",
    "        state1[i][j] = temp\n",
    "        state1 = [item for sublist in state1 for item in sublist]\n",
    "        return state1\n",
    "    if action == 'up':\n",
    "        temp = state1[i-1][j]\n",
    "        state1[i-1][j] = state1[i][j]\n",
    "        state1[i][j] = temp\n",
    "        state1 = [item for sublist in state1 for item in sublist]\n",
    "        return state1\n",
    "    if action == 'down':\n",
    "        temp = state1[i+1][j]\n",
    "        state1[i+1][j] = state1[i][j]\n",
    "        state1[i][j] = temp\n",
    "        state1 = [item for sublist in state1 for item in sublist]\n",
    "        #print('state1', state1)\n",
    "        return state1\n",
    "\n",
    "def printPath_8p(startState, goalState, path):\n",
    "    print(path)\n",
    "    for p in path: \n",
    "        print (\"\\n\",p[0],p[1],p[2],\"\\n\",p[3],p[4],p[5],\"\\n\",p[6],p[7],p[8])\n",
    "    \n",
    "    "
   ]
  },
  {
   "cell_type": "code",
   "execution_count": 4,
   "metadata": {
    "collapsed": false
   },
   "outputs": [
    {
     "data": {
      "text/plain": [
       "[[1, 2, 3, 4, 0, 5, 6, 7, 8],\n",
       " [1, 2, 3, 0, 4, 5, 6, 7, 8],\n",
       " [0, 2, 3, 1, 4, 5, 6, 7, 8],\n",
       " [2, 0, 3, 1, 4, 5, 6, 7, 8],\n",
       " [2, 3, 0, 1, 4, 5, 6, 7, 8],\n",
       " [2, 3, 5, 1, 4, 0, 6, 7, 8],\n",
       " [2, 3, 5, 1, 0, 4, 6, 7, 8],\n",
       " [2, 0, 5, 1, 3, 4, 6, 7, 8],\n",
       " [0, 2, 5, 1, 3, 4, 6, 7, 8],\n",
       " [1, 2, 5, 0, 3, 4, 6, 7, 8],\n",
       " [1, 2, 5, 3, 0, 4, 6, 7, 8],\n",
       " [1, 2, 5, 3, 4, 0, 6, 7, 8],\n",
       " [1, 2, 0, 3, 4, 5, 6, 7, 8]]"
      ]
     },
     "execution_count": 4,
     "metadata": {},
     "output_type": "execute_result"
    }
   ],
   "source": [
    "startState = [1,2,3,4,0,5,6,7,8]\n",
    "goalState = [1,2,0,3,4,5,6,7,8]\n",
    "maxDepth = 15\n",
    "iterativeDeepeningSearch(startState, goalState, actionsF_8p, takeActionF_8p, maxDepth)\n"
   ]
  },
  {
   "cell_type": "code",
   "execution_count": 5,
   "metadata": {
    "collapsed": true
   },
   "outputs": [],
   "source": [
    "def depthLimitedSearch_15p(state, goalState, actionsF, takeActionF, depthLimit):\n",
    "    if type(state[0]) == int:\n",
    "        state = printState_15p(state)\n",
    "    if type(goalState[0]) == int:\n",
    "        goalState = printState_15p(goalState)\n",
    "    if state == goalState:\n",
    "        return []\n",
    "    if depthLimit == 0:\n",
    "        return 'cutoff'\n",
    "    cutoffOccurred = False\n",
    "    for action in actionsF(state):\n",
    "        childState = takeActionF(state, action)\n",
    "        result = depthLimitedSearch_15p(childState, goalState, actionsF, takeActionF, depthLimit-1)\n",
    "        if result == 'cutoff':\n",
    "            cutoffOccurred = True\n",
    "        elif result != 'failure':\n",
    "            result.insert(0,childState)\n",
    "            return result\n",
    "    if cutoffOccurred:\n",
    "        return 'cutoff'\n",
    "    else:\n",
    "        return 'failure'       \n",
    "\n",
    "def iterativeDeepeningSearch_15p(startState, goalState, actionsF, takeActionF, maxDepth):\n",
    "    if type(startState[0]) == int:\n",
    "        startState = printState_15p(startState)\n",
    "    if type(goalState[0]) == int:\n",
    "        goalState = printState_15p(goalState)\n",
    "    for depth in range(maxDepth):\n",
    "        result = depthLimitedSearch_15p(startState, goalState, actionsF, takeActionF, depth)\n",
    "        if result is 'failure':\n",
    "            return 'failure'\n",
    "        if result is not 'cutoff':\n",
    "            print(type(startState))\n",
    "            if type(startState) == str:\n",
    "                result.insert(0,startState) \n",
    "            else:\n",
    "                state = [item for sublist in startState for item in sublist]\n",
    "                result.insert(0,state)   \n",
    "            #print('result', result)\n",
    "            return result\n",
    "    return 'cutoff'\n"
   ]
  },
  {
   "cell_type": "markdown",
   "metadata": {},
   "source": [
    "### 15- puzzle problem\n",
    "\n",
    "We have used the same code here. Only changes are in the dimension of the 15 matrix and the valid action checks increase because of the larger matrix"
   ]
  },
  {
   "cell_type": "code",
   "execution_count": 6,
   "metadata": {
    "collapsed": false
   },
   "outputs": [],
   "source": [
    "def printState_15p(startState):\n",
    "    state = [[startState[0],startState[1],startState[2],startState[3]],[startState[4],startState[5],startState[6],startState[7]],[startState[8],startState[9],startState[10],startState[11]],[startState[12],startState[13],startState[14],startState[15]]]\n",
    "    return state\n",
    "\n",
    "\n",
    "def findBlank_15p(state):\n",
    "    i = 0\n",
    "    j = 0\n",
    "    if type(state[0]) == int:\n",
    "        state = printState_8p(state)\n",
    "    for subi in state:\n",
    "        for subj in subi:\n",
    "            if state[i][j] == 0:\n",
    "                return i,j\n",
    "            j=j+1\n",
    "        i=i+1\n",
    "        j = 0\n",
    "    i = 0\n",
    "\n",
    "def actionsF_15p(state):\n",
    "    action_list = ['left', 'right', 'up', 'down']\n",
    "    if type(state[0]) == int:\n",
    "        state = printState_15p(state)    \n",
    "    i,j = findBlank_15p(state)\n",
    "    if i == 0:\n",
    "        if j == 0:\n",
    "            valid_action = [action_list[1], action_list[3]]\n",
    "        if j == 1:\n",
    "            valid_action = [action_list[1], action_list[0], action_list[3]]\n",
    "        if j == 2:\n",
    "            valid_action = [action_list[1], action_list[0], action_list[3]]\n",
    "        if j == 3:\n",
    "            valid_action = [action_list[0], action_list[3]]\n",
    "    if i == 1:\n",
    "        if j == 0:\n",
    "            valid_action = [action_list[1], action_list[2], action_list[3]]\n",
    "        if j == 1:\n",
    "            valid_action = [action_list[2], action_list[1], action_list[0], action_list[3]]\n",
    "        if j == 2:\n",
    "            valid_action = [action_list[2], action_list[1], action_list[0], action_list[3]]\n",
    "        if j == 3:\n",
    "            valid_action = [action_list[0], action_list[2], action_list[3]]\n",
    "        \n",
    "    if i == 2:\n",
    "        if j == 0:\n",
    "            valid_action = [action_list[1], action_list[2], action_list[3]]\n",
    "        if j == 1:\n",
    "            valid_action = [action_list[2], action_list[1], action_list[0], action_list[3]]\n",
    "        if j == 2:\n",
    "            valid_action = [action_list[2], action_list[1], action_list[0], action_list[3]]\n",
    "        if j == 3:\n",
    "            valid_action = [action_list[0], action_list[2], action_list[3]]\n",
    "            \n",
    "    if i == 3:\n",
    "        if j == 0:\n",
    "            valid_action = [action_list[1], action_list[2]]\n",
    "        if j == 1:\n",
    "            valid_action = [action_list[2], action_list[1], action_list[0]]\n",
    "        if j == 2:\n",
    "            valid_action = [action_list[2], action_list[1], action_list[0]]\n",
    "        if j == 3:\n",
    "            valid_action = [action_list[0], action_list[2]]\n",
    "    \n",
    "    return valid_action\n",
    "\n",
    "def takeActionF_15p(state2, action):\n",
    "    if type(state2[0]) == int:\n",
    "        state2 = printState_15p(state2)\n",
    "    state1 = copy.deepcopy(state2)\n",
    "    i,j = findBlank_15p(state1)\n",
    "    if action == 'left':\n",
    "        temp = state1[i][j-1]\n",
    "        state1[i][j-1] = state1[i][j]\n",
    "        state1[i][j] = temp\n",
    "        state1 = [item for sublist in state1 for item in sublist]\n",
    "        return state1\n",
    "    if action == 'right':\n",
    "        temp = state1[i][j+1]\n",
    "        state1[i][j+1] = state1[i][j]\n",
    "        state1[i][j] = temp\n",
    "        state1 = [item for sublist in state1 for item in sublist]\n",
    "        return state1\n",
    "    if action == 'up':\n",
    "        temp = state1[i-1][j]\n",
    "        state1[i-1][j] = state1[i][j]\n",
    "        state1[i][j] = temp\n",
    "        state1 = [item for sublist in state1 for item in sublist]\n",
    "        return state1\n",
    "    if action == 'down':\n",
    "        temp = state1[i+1][j]\n",
    "        state1[i+1][j] = state1[i][j]\n",
    "        state1[i][j] = temp\n",
    "        state1 = [item for sublist in state1 for item in sublist]\n",
    "        #print('state1', state1)\n",
    "        return state1\n",
    "\n",
    "def printPath_15p(startState, goalState, path):\n",
    "    print(path)\n",
    "    for p in path: \n",
    "        print (\"\\n\",p[0],p[1],p[2],p[3],\"\\n\",p[4],p[5],p[6],p[7],\"\\n\",p[8],p[9],p[10],p[11],\"\\n\",p[12],p[13],p[14],p[15])\n",
    "    \n",
    "    \n",
    "    "
   ]
  },
  {
   "cell_type": "code",
   "execution_count": 7,
   "metadata": {
    "collapsed": false
   },
   "outputs": [
    {
     "data": {
      "text/plain": [
       "'cutoff'"
      ]
     },
     "execution_count": 7,
     "metadata": {},
     "output_type": "execute_result"
    }
   ],
   "source": [
    "#MAIN\n",
    "startState = [1,2,3,4,0,5,6,7,8,9,10,11,12,13,14,15]\n",
    "goalState = [1,0,2,3,4,5,6,7,8,9,10,11,12,13,14,15]\n",
    "maxDepth = 12\n",
    "iterativeDeepeningSearch_15p(startState, goalState, actionsF_15p, takeActionF_15p, maxDepth)\n"
   ]
  },
  {
   "cell_type": "markdown",
   "metadata": {},
   "source": [
    "## Results\n",
    "\n",
    "* For the 8p puzzle, we can solve the problem keeping the max depth 10. We mostly didnt get cutoff after that. This means that, we got the solution for almost every problem with max depth = 10.\n",
    "* Time is directly proportional to the size of the problem. \n",
    "* Memory consumption increases with the increase in the complexity of the problem but its still relatively better than breadth search algorithm.\n",
    "* For the 15p puzzle, we didnt get the require output till max depth - 12. After that, we start getting results but not for every combination.\n",
    "* It took more than 15 minutes for the code to run.  "
   ]
  },
  {
   "cell_type": "markdown",
   "metadata": {},
   "source": [
    "Here are some example results."
   ]
  },
  {
   "cell_type": "code",
   "execution_count": 8,
   "metadata": {
    "collapsed": true
   },
   "outputs": [],
   "source": [
    "startState = [1, 0, 3, 4, 2, 5, 6, 7, 8]"
   ]
  },
  {
   "cell_type": "code",
   "execution_count": 9,
   "metadata": {
    "collapsed": false
   },
   "outputs": [
    {
     "data": {
      "text/plain": [
       "[[1, 0, 3], [4, 2, 5], [6, 7, 8]]"
      ]
     },
     "execution_count": 9,
     "metadata": {},
     "output_type": "execute_result"
    }
   ],
   "source": [
    "printState_8p(startState)  # not a required function for this assignment, but it helps when implementing printPath_8p"
   ]
  },
  {
   "cell_type": "code",
   "execution_count": 10,
   "metadata": {
    "collapsed": false
   },
   "outputs": [
    {
     "data": {
      "text/plain": [
       "(0, 1)"
      ]
     },
     "execution_count": 10,
     "metadata": {},
     "output_type": "execute_result"
    }
   ],
   "source": [
    "findBlank_8p(startState)"
   ]
  },
  {
   "cell_type": "code",
   "execution_count": 11,
   "metadata": {
    "collapsed": false
   },
   "outputs": [
    {
     "data": {
      "text/plain": [
       "['left', 'right', 'down']"
      ]
     },
     "execution_count": 11,
     "metadata": {},
     "output_type": "execute_result"
    }
   ],
   "source": [
    "actionsF_8p(startState)"
   ]
  },
  {
   "cell_type": "code",
   "execution_count": 12,
   "metadata": {
    "collapsed": false
   },
   "outputs": [
    {
     "data": {
      "text/plain": [
       "[1, 2, 3, 4, 0, 5, 6, 7, 8]"
      ]
     },
     "execution_count": 12,
     "metadata": {},
     "output_type": "execute_result"
    }
   ],
   "source": [
    "takeActionF_8p(startState, 'down')"
   ]
  },
  {
   "cell_type": "code",
   "execution_count": 13,
   "metadata": {
    "collapsed": false
   },
   "outputs": [
    {
     "data": {
      "text/plain": [
       "[[1, 2, 3], [4, 0, 5], [6, 7, 8]]"
      ]
     },
     "execution_count": 13,
     "metadata": {},
     "output_type": "execute_result"
    }
   ],
   "source": [
    "printState_8p(takeActionF_8p(startState, 'down'))"
   ]
  },
  {
   "cell_type": "code",
   "execution_count": 14,
   "metadata": {
    "collapsed": true
   },
   "outputs": [],
   "source": [
    "goalState = takeActionF_8p(startState, 'down')"
   ]
  },
  {
   "cell_type": "code",
   "execution_count": 15,
   "metadata": {
    "collapsed": true
   },
   "outputs": [],
   "source": [
    "newState = takeActionF_8p(startState, 'down')"
   ]
  },
  {
   "cell_type": "code",
   "execution_count": 16,
   "metadata": {
    "collapsed": false
   },
   "outputs": [
    {
     "data": {
      "text/plain": [
       "[1, 0, 3, 4, 2, 5, 6, 7, 8]"
      ]
     },
     "execution_count": 16,
     "metadata": {},
     "output_type": "execute_result"
    }
   ],
   "source": [
    "startState"
   ]
  },
  {
   "cell_type": "code",
   "execution_count": 17,
   "metadata": {
    "collapsed": false,
    "scrolled": true
   },
   "outputs": [
    {
     "data": {
      "text/plain": [
       "[[0, 1, 3, 4, 2, 5, 6, 7, 8],\n",
       " [1, 0, 3, 4, 2, 5, 6, 7, 8],\n",
       " [1, 2, 3, 4, 0, 5, 6, 7, 8]]"
      ]
     },
     "execution_count": 17,
     "metadata": {},
     "output_type": "execute_result"
    }
   ],
   "source": [
    "path = depthLimitedSearch(startState, goalState, actionsF_8p, takeActionF_8p, 3)\n",
    "path"
   ]
  },
  {
   "cell_type": "code",
   "execution_count": 18,
   "metadata": {
    "collapsed": false,
    "scrolled": true
   },
   "outputs": [
    {
     "data": {
      "text/plain": [
       "[[1, 0, 3, 4, 2, 5, 6, 7, 8], [1, 2, 3, 4, 0, 5, 6, 7, 8]]"
      ]
     },
     "execution_count": 18,
     "metadata": {},
     "output_type": "execute_result"
    }
   ],
   "source": [
    "path = iterativeDeepeningSearch(startState, goalState, actionsF_8p, takeActionF_8p, 3)\n",
    "path"
   ]
  },
  {
   "cell_type": "code",
   "execution_count": 19,
   "metadata": {
    "collapsed": false
   },
   "outputs": [
    {
     "data": {
      "text/plain": [
       "'cutoff'"
      ]
     },
     "execution_count": 19,
     "metadata": {},
     "output_type": "execute_result"
    }
   ],
   "source": [
    "startState = [4, 7, 2, 1, 6, 5, 0, 3, 8]\n",
    "path = iterativeDeepeningSearch(startState, goalState, actionsF_8p, takeActionF_8p, 3)\n",
    "path"
   ]
  },
  {
   "cell_type": "code",
   "execution_count": 20,
   "metadata": {
    "collapsed": false
   },
   "outputs": [
    {
     "data": {
      "text/plain": [
       "'cutoff'"
      ]
     },
     "execution_count": 20,
     "metadata": {},
     "output_type": "execute_result"
    }
   ],
   "source": [
    "startState = [4, 7, 2, 1, 6, 5, 0, 3, 8]\n",
    "path = iterativeDeepeningSearch(startState, goalState, actionsF_8p, takeActionF_8p, 5)\n",
    "path"
   ]
  },
  {
   "cell_type": "code",
   "execution_count": 21,
   "metadata": {
    "collapsed": true
   },
   "outputs": [],
   "source": [
    "import random"
   ]
  },
  {
   "cell_type": "code",
   "execution_count": 22,
   "metadata": {
    "collapsed": false
   },
   "outputs": [
    {
     "data": {
      "text/plain": [
       "'right'"
      ]
     },
     "execution_count": 22,
     "metadata": {},
     "output_type": "execute_result"
    }
   ],
   "source": [
    "random.choice(['left', 'right'])"
   ]
  },
  {
   "cell_type": "code",
   "execution_count": 23,
   "metadata": {
    "collapsed": true
   },
   "outputs": [],
   "source": [
    "def randomStartState(goalState, actionsF, takeActionF, nSteps):\n",
    "    state = goalState\n",
    "    for i in range(nSteps):\n",
    "        state = takeActionF(state, random.choice(actionsF(state)))\n",
    "    return state"
   ]
  },
  {
   "cell_type": "code",
   "execution_count": 24,
   "metadata": {
    "collapsed": false
   },
   "outputs": [
    {
     "data": {
      "text/plain": [
       "[0, 1, 2, 4, 5, 3, 6, 7, 8]"
      ]
     },
     "execution_count": 24,
     "metadata": {},
     "output_type": "execute_result"
    }
   ],
   "source": [
    "startState = randomStartState(goalState, actionsF_8p, takeActionF_8p, 10)\n",
    "startState"
   ]
  },
  {
   "cell_type": "code",
   "execution_count": 25,
   "metadata": {
    "collapsed": false
   },
   "outputs": [
    {
     "data": {
      "text/plain": [
       "[[0, 1, 2, 4, 5, 3, 6, 7, 8],\n",
       " [1, 0, 2, 4, 5, 3, 6, 7, 8],\n",
       " [1, 2, 0, 4, 5, 3, 6, 7, 8],\n",
       " [1, 2, 3, 4, 5, 0, 6, 7, 8],\n",
       " [1, 2, 3, 4, 0, 5, 6, 7, 8]]"
      ]
     },
     "execution_count": 25,
     "metadata": {},
     "output_type": "execute_result"
    }
   ],
   "source": [
    "path = iterativeDeepeningSearch(startState, goalState, actionsF_8p, takeActionF_8p, 20)\n",
    "path"
   ]
  },
  {
   "cell_type": "markdown",
   "metadata": {},
   "source": [
    "Let's print out the state sequence in a readable form."
   ]
  },
  {
   "cell_type": "markdown",
   "metadata": {},
   "source": [
    "Here is one way to format the search problem and solution in a readable form."
   ]
  },
  {
   "cell_type": "code",
   "execution_count": 26,
   "metadata": {
    "collapsed": false
   },
   "outputs": [
    {
     "name": "stdout",
     "output_type": "stream",
     "text": [
      "[[0, 1, 2, 4, 5, 3, 6, 7, 8], [1, 0, 2, 4, 5, 3, 6, 7, 8], [1, 2, 0, 4, 5, 3, 6, 7, 8], [1, 2, 3, 4, 5, 0, 6, 7, 8], [1, 2, 3, 4, 0, 5, 6, 7, 8]]\n",
      "\n",
      " 0 1 2 \n",
      " 4 5 3 \n",
      " 6 7 8\n",
      "\n",
      " 1 0 2 \n",
      " 4 5 3 \n",
      " 6 7 8\n",
      "\n",
      " 1 2 0 \n",
      " 4 5 3 \n",
      " 6 7 8\n",
      "\n",
      " 1 2 3 \n",
      " 4 5 0 \n",
      " 6 7 8\n",
      "\n",
      " 1 2 3 \n",
      " 4 0 5 \n",
      " 6 7 8\n"
     ]
    }
   ],
   "source": [
    "printPath_8p(startState, goalState, path)"
   ]
  },
  {
   "cell_type": "markdown",
   "metadata": {},
   "source": [
    "Download [A2grader.tar](A2grader.tar) and extract A2grader.py from it."
   ]
  },
  {
   "cell_type": "code",
   "execution_count": 27,
   "metadata": {
    "collapsed": false
   },
   "outputs": [
    {
     "name": "stdout",
     "output_type": "stream",
     "text": [
      "\n",
      "Searching this graph:\n",
      " {'e': ['z'], 'd': ['y'], 'b': ['a'], 'a': ['b', 'z', 'd'], 'y': ['z']}\n",
      "\n",
      "Looking for path from a to y with max depth of 1.\n",
      " 5/ 5 points. Your search correctly returned cutoff\n",
      "\n",
      "Looking for path from a to y with max depth of 5.\n",
      "10/10 points. Your search correctly returned ['a', 'z']\n",
      "\n",
      "Testing findBlank_8p([1, 2, 3, 4, 5, 6, 7, 0, 8])\n",
      " 5/ 5 points. Your findBlank_8p correctly returned 2 1\n",
      "\n",
      "Testing actionsF_8p([1, 2, 3, 4, 5, 6, 7, 0, 8])\n",
      "10/10 points. Your actionsF_8p correctly returned ['left', 'right', 'up']\n",
      "\n",
      "Testing takeActionF_8p([1, 2, 3, 4, 5, 6, 7, 0, 8],up)\n",
      "10/10 points. Your takeActionsF_8p correctly returned [1, 2, 3, 4, 0, 6, 7, 5, 8]\n",
      "\n",
      "Testing iterativeDeepeningSearch([1, 2, 3, 4, 5, 6, 7, 0, 8],[0, 2, 3, 1, 4,  6, 7, 5, 8], actionsF_8p, takeActionF_8p, 5)\n",
      "20/20 points. Your search correctly returned [[1, 2, 3, 4, 5, 6, 7, 0, 8], [1, 2, 3, 4, 0, 6, 7, 5, 8], [1, 2, 3, 0, 4, 6, 7, 5, 8], [0, 2, 3, 1, 4, 6, 7, 5, 8]]\n",
      "\n",
      "Testing iterativeDeepeningSearch([5, 2, 8, 0, 1, 4, 3, 7, 6], [0, 2, 3, 1, 4,  6, 7, 5, 8], actionsF_8p, takeActionF_8p, 10)\n",
      "20/20 points. Your search correctly returned cutoff\n",
      "\n",
      "C:\\Users\\Yashad\\Desktop\\Books\\AI Grade is 80/80\n",
      "Up to 20 more points will be given based on the qualty of your descriptions of the method and the results.\n"
     ]
    }
   ],
   "source": [
    "%run -i A2grader.py"
   ]
  },
  {
   "cell_type": "code",
   "execution_count": null,
   "metadata": {
    "collapsed": true
   },
   "outputs": [],
   "source": []
  }
 ],
 "metadata": {
  "anaconda-cloud": {},
  "kernelspec": {
   "display_name": "Python [conda root]",
   "language": "python",
   "name": "conda-root-py"
  },
  "language_info": {
   "codemirror_mode": {
    "name": "ipython",
    "version": 3
   },
   "file_extension": ".py",
   "mimetype": "text/x-python",
   "name": "python",
   "nbconvert_exporter": "python",
   "pygments_lexer": "ipython3",
   "version": "3.5.2"
  }
 },
 "nbformat": 4,
 "nbformat_minor": 1
}
