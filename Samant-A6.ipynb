{
 "cells": [
  {
   "cell_type": "markdown",
   "metadata": {},
   "source": [
    "$\\newcommand{\\xv}{\\mathbf{x}}\n",
    "\\newcommand{\\Xv}{\\mathbf{X}}\n",
    "\\newcommand{\\yv}{\\mathbf{y}}\n",
    "\\newcommand{\\zv}{\\mathbf{z}}\n",
    "\\newcommand{\\av}{\\mathbf{a}}\n",
    "\\newcommand{\\Wv}{\\mathbf{W}}\n",
    "\\newcommand{\\wv}{\\mathbf{w}}\n",
    "\\newcommand{\\tv}{\\mathbf{t}}\n",
    "\\newcommand{\\Tv}{\\mathbf{T}}\n",
    "\\newcommand{\\muv}{\\boldsymbol{\\mu}}\n",
    "\\newcommand{\\sigmav}{\\boldsymbol{\\sigma}}\n",
    "\\newcommand{\\phiv}{\\boldsymbol{\\phi}}\n",
    "\\newcommand{\\Phiv}{\\boldsymbol{\\Phi}}\n",
    "\\newcommand{\\Sigmav}{\\boldsymbol{\\Sigma}}\n",
    "\\newcommand{\\Lambdav}{\\boldsymbol{\\Lambda}}\n",
    "\\newcommand{\\half}{\\frac{1}{2}}\n",
    "\\newcommand{\\argmax}[1]{\\underset{#1}{\\operatorname{argmax}}}\n",
    "\\newcommand{\\argmin}[1]{\\underset{#1}{\\operatorname{argmin}}}$"
   ]
  },
  {
   "cell_type": "markdown",
   "metadata": {},
   "source": [
    "# Assignment 6: Neural Networks"
   ]
  },
  {
   "cell_type": "markdown",
   "metadata": {},
   "source": [
    "Yashad Samant"
   ]
  },
  {
   "cell_type": "markdown",
   "metadata": {},
   "source": [
    "## Overview"
   ]
  },
  {
   "cell_type": "markdown",
   "metadata": {},
   "source": [
    "You will write and apply code that trains neural networks of various numbers of hidden layers and units in each hidden layer and returns results as specified below.  You will do this once for a regression problem and once for a classification problem. "
   ]
  },
  {
   "cell_type": "markdown",
   "metadata": {},
   "source": [
    "## Required Code"
   ]
  },
  {
   "cell_type": "code",
   "execution_count": 1,
   "metadata": {},
   "outputs": [],
   "source": [
    "import numpy as np\n",
    "import neuralnetworks as nn\n",
    "nnet = nn.NeuralNetwork\n",
    "import mlutils as ml\n",
    "import scaledconjugategradient as scg\n",
    "import time\n",
    "import pandas as pd"
   ]
  },
  {
   "cell_type": "code",
   "execution_count": 2,
   "metadata": {},
   "outputs": [],
   "source": [
    "def trainNNs(X, T, trainFraction, hiddenLayerStructures, numberRepetitions, numberIterations, classify=False):\n",
    "    results=[] \n",
    "    for i in range(len(hiddenLayerStructures)):\n",
    "        rmse_train = []\n",
    "        rmse_test = []\n",
    "        t0 = time.time()\n",
    "        for j in range(numberRepetitions):  \n",
    "            Xtrain,Ttrain,Xtest,Ttest = ml.partition(X,T,(trainFraction,1-trainFraction),classify)\n",
    "            if classify==False:\n",
    "                nnet = nn.NeuralNetwork(X.shape[1], hiddenLayerStructures[i], T.shape[1])\n",
    "            else:                      \n",
    "                uniqT=np.unique(T)\n",
    "                nnet=nn.NeuralNetworkClassifier(X.shape[1],hiddenLayerStructures[i],len(uniqT))\n",
    "            nnet.train(Xtrain, Ttrain, numberIterations)\n",
    "            Ytrain=nnet.use(Xtrain)\n",
    "            Ytest=nnet.use(Xtest) \n",
    "            if classify==False:\n",
    "                rmse_train.append(np.sqrt(np.mean((Ytrain-Ttrain)**2)))\n",
    "                rmse_test.append(np.sqrt(np.mean((Ytest-Ttest)**2)))    \n",
    "            else:\n",
    "                rmse_train.append(np.sum(Ytrain!=Ttrain)/len(Ttrain))\n",
    "                rsme_test.append(np.sum(Ytest!=Ttest)/len(Ttest))                \n",
    "   \n",
    "        results.append([hiddenLayerStructures[i],rmse_train,rmse_test,time.time()-t0])\n",
    "    \n",
    "    return results\n",
    "            "
   ]
  },
  {
   "cell_type": "code",
   "execution_count": 3,
   "metadata": {},
   "outputs": [],
   "source": [
    "def summarize(result):\n",
    "    results = []\n",
    "    for i in range(len(result)):\n",
    "        rmse_train = np.mean(result[i][1])\n",
    "        rmse_test = np.mean(result[i][2])\n",
    "        final_output = [result[i][0], rmse_train, rmse_test, result[i][3]]\n",
    "        print()\n",
    "        results.append(final_output)\n",
    "    return results\n",
    "    "
   ]
  },
  {
   "cell_type": "code",
   "execution_count": 58,
   "metadata": {},
   "outputs": [],
   "source": [
    "def bestNetwork(result):\n",
    "    lowest = []\n",
    "    for i in range(len(result)):\n",
    "        lowest.append(result[i][2])\n",
    "    minimum = np.min(lowest)\n",
    "    l = lowest.index(minimum)\n",
    "    return result[l]\n",
    "            "
   ]
  },
  {
   "cell_type": "markdown",
   "metadata": {},
   "source": [
    "## Examples\n"
   ]
  },
  {
   "cell_type": "code",
   "execution_count": 5,
   "metadata": {},
   "outputs": [],
   "source": [
    "X = np.arange(10).reshape((-1,1))\n",
    "T = X + 1 + np.random.uniform(-1, 1, ((10,1)))"
   ]
  },
  {
   "cell_type": "code",
   "execution_count": 6,
   "metadata": {},
   "outputs": [],
   "source": [
    "import matplotlib.pyplot as plt\n",
    "%matplotlib inline"
   ]
  },
  {
   "cell_type": "code",
   "execution_count": 7,
   "metadata": {
    "scrolled": false
   },
   "outputs": [
    {
     "data": {
      "image/png": "[encoded data removed]",
      "text/plain": [
       "<matplotlib.figure.Figure at 0x263f323fef0>"
      ]
     },
     "metadata": {},
     "output_type": "display_data"
    }
   ],
   "source": [
    "plt.plot(X, T, 'o-');"
   ]
  },
  {
   "cell_type": "code",
   "execution_count": 8,
   "metadata": {},
   "outputs": [
    {
     "data": {
      "text/plain": [
       "array([ 0.70710678,  0.21686202,  0.13266461,  0.12103347,  0.11465751,\n",
       "        0.11429101,  0.11428547,  0.11420192,  0.11411692,  0.1141116 ,\n",
       "        0.1141116 ,  0.1141116 ,  0.1141116 ,  0.11318406,  0.11162747,\n",
       "        0.11159655,  0.11110523,  0.11031396,  0.10903029,  0.10895866,\n",
       "        0.10895408,  0.10886107,  0.10882016,  0.10881905,  0.10880346,\n",
       "        0.10879352,  0.10879226,  0.10873561,  0.10873494,  0.10870148,\n",
       "        0.10867978,  0.10867728,  0.10867698,  0.10866874,  0.10866592,\n",
       "        0.10866325,  0.10866325,  0.10866325,  0.10866325,  0.10866325,\n",
       "        0.10866325,  0.10866325,  0.10866325,  0.10866325,  0.10866325,\n",
       "        0.1086351 ,  0.10863057,  0.10858939,  0.10858551,  0.10858289,\n",
       "        0.10853422,  0.10853387,  0.10853109,  0.10852686,  0.10848637,\n",
       "        0.10848373,  0.10848184,  0.10841913,  0.10841794,  0.10841661,\n",
       "        0.10839066,  0.10838042,  0.10838006,  0.10837024,  0.10836489,\n",
       "        0.10835988,  0.10835783,  0.10835649,  0.10834836,  0.10834431,\n",
       "        0.10832216,  0.10829779,  0.10829762,  0.1082969 ,  0.10829675,\n",
       "        0.10829595,  0.10829576,  0.10829355,  0.10828041,  0.10827789,\n",
       "        0.10826606,  0.10826039,  0.10825291,  0.10824687,  0.10820512,\n",
       "        0.10819293,  0.10819027,  0.1081892 ,  0.10818902,  0.10818034,\n",
       "        0.10817864,  0.10817057,  0.10816489,  0.10816418,  0.1081636 ,\n",
       "        0.10816331,  0.10816143,  0.108161  ,  0.10815251,  0.10814873,\n",
       "        0.10814605])"
      ]
     },
     "execution_count": 8,
     "metadata": {},
     "output_type": "execute_result"
    }
   ],
   "source": [
    "nnet = nn.NeuralNetwork(X.shape[1], 2, T.shape[1])\n",
    "nnet.train(X, T, 100)\n",
    "nnet.getErrorTrace()"
   ]
  },
  {
   "cell_type": "code",
   "execution_count": 9,
   "metadata": {},
   "outputs": [
    {
     "data": {
      "text/plain": [
       "array([ 0.70710678,  0.31881403,  0.31881403,  0.31881403,  0.31881403,\n",
       "        0.31881403,  0.31881403,  0.31881403,  0.31881403,  0.31881403,\n",
       "        0.17892203,  0.12202   ,  0.11279739,  0.11277897,  0.11271746,\n",
       "        0.11212121,  0.11158077,  0.11156569,  0.11155586,  0.11154782,\n",
       "        0.11154532,  0.11153808,  0.11152163,  0.11150348,  0.11149556,\n",
       "        0.11149268,  0.11146616,  0.11144095,  0.11138411,  0.11137948,\n",
       "        0.11137147,  0.11136291,  0.11134781,  0.11133983,  0.11133431,\n",
       "        0.11130828,  0.11130368,  0.11128871,  0.11128368,  0.11126962,\n",
       "        0.11126596,  0.11122721,  0.11120675,  0.11119317,  0.11119317,\n",
       "        0.11119317,  0.11119317,  0.11119317,  0.11119317,  0.11119317,\n",
       "        0.11119317,  0.11119317,  0.11119317,  0.11119317,  0.11119317,\n",
       "        0.11119317,  0.11119317,  0.11119317,  0.11119317,  0.11119317,\n",
       "        0.11119317,  0.11039916,  0.11034955,  0.11003405,  0.109985  ,\n",
       "        0.1099699 ,  0.10996092,  0.10993427,  0.10993234,  0.10990867,\n",
       "        0.10986129,  0.1097758 ,  0.10977424,  0.10976055,  0.10975659,\n",
       "        0.10972689,  0.10969991,  0.10964869,  0.10964768,  0.10964683,\n",
       "        0.10964355,  0.10964234,  0.10964071,  0.10963911,  0.10958972,\n",
       "        0.10958914,  0.10955621,  0.1095557 ,  0.10955496,  0.10949815,\n",
       "        0.10949668,  0.10948252,  0.10948252,  0.1084813 ,  0.1082238 ,\n",
       "        0.10789732,  0.10787191,  0.10784346,  0.10777113,  0.10776438,\n",
       "        0.10776385])"
      ]
     },
     "execution_count": 9,
     "metadata": {},
     "output_type": "execute_result"
    }
   ],
   "source": [
    "nnet = nn.NeuralNetwork(X.shape[1], [5, 5, 5], T.shape[1])\n",
    "nnet.train(X, T, 100)\n",
    "nnet.getErrorTrace()"
   ]
  },
  {
   "cell_type": "code",
   "execution_count": 10,
   "metadata": {
    "scrolled": true
   },
   "outputs": [
    {
     "data": {
      "text/plain": [
       "[[2,\n",
       "  [0.28037008478170428,\n",
       "   0.35122084830498496,\n",
       "   0.35885296118618293,\n",
       "   0.20177630034102761,\n",
       "   0.067984108740625188],\n",
       "  [0.62719284130118436,\n",
       "   0.54315369999094376,\n",
       "   1.3308184629539579,\n",
       "   0.86431222377911587,\n",
       "   1.1955482763781833],\n",
       "  0.1226043701171875],\n",
       " [10,\n",
       "  [0.25527253291021029,\n",
       "   0.20932848137843418,\n",
       "   0.056064215946746772,\n",
       "   0.068152390234568871,\n",
       "   0.23188480252477986],\n",
       "  [1.0919656451827497,\n",
       "   0.83214682676881135,\n",
       "   0.94427769457499278,\n",
       "   1.060497692095888,\n",
       "   1.6874146508736916],\n",
       "  0.11064434051513672],\n",
       " [[10, 10],\n",
       "  [0.30910509519898277,\n",
       "   0.21779105801363252,\n",
       "   0.027089601543615942,\n",
       "   0.094789675320217898,\n",
       "   0.073046565160342455],\n",
       "  [1.4478223224198841,\n",
       "   1.0366608244649735,\n",
       "   2.144458360504963,\n",
       "   1.612207224525368,\n",
       "   1.5143723382947682],\n",
       "  0.14093017578125]]"
      ]
     },
     "execution_count": 10,
     "metadata": {},
     "output_type": "execute_result"
    }
   ],
   "source": [
    "results = trainNNs(X, T, 0.8, [2, 10, [10, 10]], 5, 100, classify=False)\n",
    "results\n",
    "#summary = summarize(results)"
   ]
  },
  {
   "cell_type": "code",
   "execution_count": null,
   "metadata": {
    "scrolled": true
   },
   "outputs": [],
   "source": [
    "results = trainNNs(X, T, 0.8, [0, 1, 2, 10, [10, 10], [5, 5, 5, 5], [2]*5], 50, 400, classify=False)\n",
    "results"
   ]
  },
  {
   "cell_type": "code",
   "execution_count": 11,
   "metadata": {},
   "outputs": [
    {
     "name": "stdout",
     "output_type": "stream",
     "text": [
      "\n",
      "\n",
      "\n"
     ]
    },
    {
     "data": {
      "text/plain": [
       "[[2, 0.25204086067090498, 0.91220510088067697, 0.1226043701171875],\n",
       " [10, 0.16414048459894798, 1.1232605018992268, 0.11064434051513672],\n",
       " [[10, 10], 0.14436439904735832, 1.5511042140419913, 0.14093017578125]]"
      ]
     },
     "execution_count": 11,
     "metadata": {},
     "output_type": "execute_result"
    }
   ],
   "source": [
    "summarize(results)"
   ]
  },
  {
   "cell_type": "code",
   "execution_count": 59,
   "metadata": {},
   "outputs": [
    {
     "name": "stdout",
     "output_type": "stream",
     "text": [
      "\n",
      "\n",
      "\n",
      "\n",
      "\n",
      "\n",
      "\n",
      "\n",
      "\n",
      "[[20, 20], 61.711547252399626, 63.260977851277502, 139.03465938568115]\n",
      "Hidden Layers [20, 20] Average RMSE Training 61.71 Testing 63.26 Took 139.03 seconds\n"
     ]
    }
   ],
   "source": [
    "best = bestNetwork(summarize(results))\n",
    "print(best)\n",
    "print('Hidden Layers {} Average RMSE Training {:.2f} Testing {:.2f} Took {:.2f} seconds'.format(*best))"
   ]
  },
  {
   "cell_type": "markdown",
   "metadata": {},
   "source": [
    "## Data for Regression Experiment\n",
    "\n",
    "From the UCI Machine Learning Repository, download the [Appliances energy prediction](http://archive.ics.uci.edu/ml/datasets/Appliances+energy+prediction) data.  You can do this by visiting the Data Folder for this data set, or just do this:\n",
    "\n",
    "     !wget http://archive.ics.uci.edu/ml/machine-learning-databases/00374/energydata_complete.csv\n",
    "\n"
   ]
  },
  {
   "cell_type": "markdown",
   "metadata": {},
   "source": [
    "Read this data into python.  One suggestion is to use the `loadtxt` function in the `numpy` package.  You may ignore the first column of each row which contains a data and time.  Also ignore the last two columns of random variables.  We will not use that in our modeling of this data.  You will also have to deal with the double quotes that surround every value in every field.  Read the first line of this file to get the names of the features.\n",
    "\n",
    "Once you have read this in correctly, you should see values like this:"
   ]
  },
  {
   "cell_type": "code",
   "execution_count": 13,
   "metadata": {},
   "outputs": [
    {
     "name": "stdout",
     "output_type": "stream",
     "text": [
      "(19736, 26)\n"
     ]
    }
   ],
   "source": [
    "\n",
    "data = np.loadtxt(\"C:/Users/Yashad/Desktop/Books/AI/energydata_complete.csv\", dtype = str, delimiter=',', usecols = range(1,27))\n",
    "\n",
    "print(data.shape)\n",
    "\n",
    "data = np.chararray.strip(data[0:],'\"b\\\"')\n",
    "data = np.chararray.strip(data[0:],\"'\\'\")\n",
    "data = np.chararray.strip(data[0:],'\"')\n",
    "names = data[0] \n",
    "Xnames = names[2:26]\n",
    "Tnames = names[0:2]\n",
    "\n",
    "data  = data[1:]\n",
    "data = np.asarray(data,dtype=float)\n",
    "Xenergy = data[:,2:]\n",
    "Tenergy = data[:,0:2]"
   ]
  },
  {
   "cell_type": "code",
   "execution_count": 14,
   "metadata": {
    "scrolled": true
   },
   "outputs": [
    {
     "data": {
      "text/plain": [
       "chararray(['T1', 'RH_1', 'T2', 'RH_2', 'T3', 'RH_3', 'T4', 'RH_4', 'T5',\n",
       "       'RH_5', 'T6', 'RH_6', 'T7', 'RH_7', 'T8', 'RH_8', 'T9', 'RH_9',\n",
       "       'T_out', 'Press_mm_hg', 'RH_out', 'Windspeed', 'Visibility',\n",
       "       'Tdewpoint'], \n",
       "      dtype='<U28')"
      ]
     },
     "execution_count": 14,
     "metadata": {},
     "output_type": "execute_result"
    }
   ],
   "source": [
    "Xnames"
   ]
  },
  {
   "cell_type": "code",
   "execution_count": 15,
   "metadata": {},
   "outputs": [
    {
     "data": {
      "text/plain": [
       "(19735, 26)"
      ]
     },
     "execution_count": 15,
     "metadata": {},
     "output_type": "execute_result"
    }
   ],
   "source": [
    "data.shape"
   ]
  },
  {
   "cell_type": "code",
   "execution_count": 16,
   "metadata": {
    "scrolled": true
   },
   "outputs": [
    {
     "data": {
      "text/plain": [
       "array([[  60.        ,   30.        ,   19.89      ,   47.59666667,\n",
       "          19.2       ,   44.79      ,   19.79      ,   44.73      ,\n",
       "          19.        ,   45.56666667,   17.16666667,   55.2       ,\n",
       "           7.02666667,   84.25666667,   17.2       ,   41.62666667,\n",
       "          18.2       ,   48.9       ,   17.03333333,   45.53      ,\n",
       "           6.6       ,  733.5       ,   92.        ,    7.        ,\n",
       "          63.        ,    5.3       ],\n",
       "       [  60.        ,   30.        ,   19.89      ,   46.69333333,\n",
       "          19.2       ,   44.7225    ,   19.79      ,   44.79      ,\n",
       "          19.        ,   45.9925    ,   17.16666667,   55.2       ,\n",
       "           6.83333333,   84.06333333,   17.2       ,   41.56      ,\n",
       "          18.2       ,   48.86333333,   17.06666667,   45.56      ,\n",
       "           6.48333333,  733.6       ,   92.        ,    6.66666667,\n",
       "          59.16666667,    5.2       ]])"
      ]
     },
     "execution_count": 16,
     "metadata": {},
     "output_type": "execute_result"
    }
   ],
   "source": [
    "data[:2,:]"
   ]
  },
  {
   "cell_type": "markdown",
   "metadata": {},
   "source": [
    "Use the first two columns, labelled `Appliances` and `lights` as the target variables, and the remaining 24 columns as the input features.  So"
   ]
  },
  {
   "cell_type": "code",
   "execution_count": 17,
   "metadata": {},
   "outputs": [
    {
     "data": {
      "text/plain": [
       "((19735, 24), (19735, 2))"
      ]
     },
     "execution_count": 17,
     "metadata": {},
     "output_type": "execute_result"
    }
   ],
   "source": [
    "Xenergy.shape, Tenergy.shape"
   ]
  },
  {
   "cell_type": "code",
   "execution_count": 18,
   "metadata": {},
   "outputs": [
    {
     "data": {
      "text/plain": [
       "chararray(['T1', 'RH_1', 'T2', 'RH_2', 'T3', 'RH_3', 'T4', 'RH_4', 'T5',\n",
       "       'RH_5', 'T6', 'RH_6', 'T7', 'RH_7', 'T8', 'RH_8', 'T9', 'RH_9',\n",
       "       'T_out', 'Press_mm_hg', 'RH_out', 'Windspeed', 'Visibility',\n",
       "       'Tdewpoint'], \n",
       "      dtype='<U28')"
      ]
     },
     "execution_count": 18,
     "metadata": {},
     "output_type": "execute_result"
    }
   ],
   "source": [
    "Xnames"
   ]
  },
  {
   "cell_type": "code",
   "execution_count": 19,
   "metadata": {},
   "outputs": [
    {
     "data": {
      "text/plain": [
       "chararray(['Appliances', 'lights'], \n",
       "      dtype='<U28')"
      ]
     },
     "execution_count": 19,
     "metadata": {},
     "output_type": "execute_result"
    }
   ],
   "source": [
    "Tnames"
   ]
  },
  {
   "cell_type": "markdown",
   "metadata": {},
   "source": [
    "Train several neural networks on all of this data for 100 iterations.  Plot the error trace (nnet.getErrorTrace()) to help you decide now many iterations might be needed.  100 may not be enough.  If for your larger networks the error is still decreasing after 100 iterations you should train all nets for more than 100 iterations.\n",
    "\n",
    "Now use your `trainNNs`, `summarize`, and `bestNetwork` functions on this data to investigate various network sizes."
   ]
  },
  {
   "cell_type": "code",
   "execution_count": 84,
   "metadata": {},
   "outputs": [],
   "source": [
    "results = trainNNs(Xenergy, Tenergy, 0.8, [0, 5, 20, 50,80,[2,2], [3,3],[5, 5], [10, 10], [20,20]], 10, 100)"
   ]
  },
  {
   "cell_type": "code",
   "execution_count": 56,
   "metadata": {},
   "outputs": [
    {
     "name": "stdout",
     "output_type": "stream",
     "text": [
      "\n",
      "\n",
      "\n",
      "\n",
      "\n",
      "\n",
      "\n",
      "\n",
      "\n"
     ]
    },
    {
     "data": {
      "text/plain": [
       "[[0, 67.022791380392647, 67.740536437794049, 5.701613664627075],\n",
       " [5, 65.262110232321362, 65.565603470044721, 33.67688465118408],\n",
       " [20, 62.948731536757137, 64.876250246765764, 77.03506255149841],\n",
       " [50, 61.61776174205049, 63.54044869319371, 161.25538206100464],\n",
       " [80, 61.236792863781815, 63.27307558174509, 270.69817447662354],\n",
       " [[3, 3], 65.533823484026144, 67.301097686858824, 38.19560742378235],\n",
       " [[5, 5], 64.862738213931863, 66.11250869633929, 47.838775873184204],\n",
       " [[10, 10], 62.783771585665377, 65.222349305360552, 81.29992532730103],\n",
       " [[20, 20], 61.711547252399626, 63.260977851277502, 139.03465938568115]]"
      ]
     },
     "execution_count": 56,
     "metadata": {},
     "output_type": "execute_result"
    }
   ],
   "source": [
    "summarize(results)"
   ]
  },
  {
   "cell_type": "code",
   "execution_count": 60,
   "metadata": {},
   "outputs": [
    {
     "name": "stdout",
     "output_type": "stream",
     "text": [
      "\n",
      "\n",
      "\n",
      "\n",
      "\n",
      "\n",
      "\n",
      "\n",
      "\n"
     ]
    },
    {
     "data": {
      "text/plain": [
       "[[20, 20], 61.711547252399626, 63.260977851277502, 139.03465938568115]"
      ]
     },
     "execution_count": 60,
     "metadata": {},
     "output_type": "execute_result"
    }
   ],
   "source": [
    "bestNetwork(summarize(results))"
   ]
  },
  {
   "cell_type": "code",
   "execution_count": 87,
   "metadata": {},
   "outputs": [
    {
     "name": "stdout",
     "output_type": "stream",
     "text": [
      "(15788, 24)\n",
      "(15788, 2)\n",
      "(15788, 24)\n",
      "(15788, 2)\n",
      "(15788, 24)\n",
      "(15788, 2)\n",
      "(15788, 24)\n",
      "(15788, 2)\n",
      "(15788, 24)\n",
      "(15788, 2)\n",
      "(15788, 24)\n",
      "(15788, 2)\n",
      "(15788, 24)\n",
      "(15788, 2)\n",
      "(15788, 24)\n",
      "(15788, 2)\n",
      "(15788, 24)\n",
      "(15788, 2)\n",
      "(15788, 24)\n",
      "(15788, 2)\n"
     ]
    },
    {
     "data": {
      "image/png": "[encoded data removed]",
      "text/plain": [
       "<matplotlib.figure.Figure at 0x26381a414e0>"
      ]
     },
     "metadata": {},
     "output_type": "display_data"
    }
   ],
   "source": [
    "for j in range(10):  \n",
    "        Xtrain,Ttrain,Xtest,Ttest = ml.partition(Xenergy,Tenergy,(0.8,0.2),False)\n",
    "        print (Xtrain.shape)\n",
    "        print (Ttrain.shape)\n",
    "        nnet = nn.NeuralNetwork(Xtrain.shape[1], [20,20], Ttrain.shape[1])\n",
    "        nnet.train(Xtrain, Ttrain, 1000)\n",
    "        Ytrain=nnet.use(Xtrain)\n",
    "        Ytest=nnet.use(Xtest) \n",
    "        plt.plot(Ytrain, Xtrain)  \n",
    "\n",
    "    "
   ]
  },
  {
   "cell_type": "code",
   "execution_count": 92,
   "metadata": {},
   "outputs": [
    {
     "name": "stdout",
     "output_type": "stream",
     "text": [
      "(15788, 24)\n",
      "(15788, 2)\n",
      "(15788, 24)\n",
      "(15788, 2)\n",
      "(15788, 24)\n",
      "(15788, 2)\n",
      "(15788, 24)\n",
      "(15788, 2)\n",
      "(15788, 24)\n",
      "(15788, 2)\n",
      "(15788, 24)\n",
      "(15788, 2)\n",
      "(15788, 24)\n",
      "(15788, 2)\n",
      "(15788, 24)\n",
      "(15788, 2)\n",
      "(15788, 24)\n",
      "(15788, 2)\n",
      "(15788, 24)\n",
      "(15788, 2)\n"
     ]
    },
    {
     "data": {
      "image/png": "[encoded data removed]",
      "text/plain": [
       "<matplotlib.figure.Figure at 0x263819de0b8>"
      ]
     },
     "metadata": {},
     "output_type": "display_data"
    }
   ],
   "source": [
    "for j in range(10):  \n",
    "        Xtrain,Ttrain,Xtest,Ttest = ml.partition(Xenergy,Tenergy,(0.8,0.2),False)\n",
    "        print (Xtrain.shape)\n",
    "        print (Ttrain.shape)\n",
    "        nnet = nn.NeuralNetwork(Xtrain.shape[1], [20,20], Ttrain.shape[1])\n",
    "        nnet.train(Xtrain, Ttrain, 1000)\n",
    "        Ytrain=nnet.use(Xtrain)\n",
    "        Ytest=nnet.use(Xtest) \n",
    "        plt.plot(Ytrain, Xtrain)   \n",
    "\n",
    "    "
   ]
  },
  {
   "cell_type": "code",
   "execution_count": 78,
   "metadata": {},
   "outputs": [
    {
     "data": {
      "text/plain": [
       "array([  60.,   60.,   50., ...,  270.,  420.,  430.])"
      ]
     },
     "execution_count": 78,
     "metadata": {},
     "output_type": "execute_result"
    }
   ],
   "source": [
    "Tenergy[:,0]"
   ]
  },
  {
   "cell_type": "markdown",
   "metadata": {},
   "source": [
    "Test at least 10 different hidden layer structures.  Larger numbers of layers and units may do the best on training data, but not on testing data. Why?\n",
    "\n",
    "Now train another network with your best hidden layer structure on 0.8 of the data and use the trained network on the testing data (the remaining 0.2 of the date).  As before use `ml.partition` to produce the training and testing sets.\n",
    "\n",
    "For the testing data, plot the predicted and actual `Appliances` energy use, and the predicted and actual `lights` energy use, in two separate plots.  Discuss what you see."
   ]
  },
  {
   "cell_type": "markdown",
   "metadata": {},
   "source": [
    "## Data for Classification Experiment\n",
    "\n",
    "From the UCI Machine Learning Repository, download the [Anuran Calls (MFCCs)](http://archive.ics.uci.edu/ml/datasets/Anuran+Calls+%28MFCCs%29) data.  You can do this by visiting the Data Folder for this data set, or just do this:\n",
    "\n",
    "     !wget 'http://archive.ics.uci.edu/ml/machine-learning-databases/00406/Anuran Calls (MFCCs).zip'\n",
    "     !unzip Anuran*zip\n",
    "     \n",
    "Read the data in the file `Frogs_MFCCs.csv` into python.  This will be a little tricky. Each line of the file is a sample of audio features plus three columns that label the sample by family, genus, and species. We will try to predict the species.  The tricky part is that the species is given as text.  We need to convert this to a target class, as an integer. The `numpy` function `unique` will come in handy here."
   ]
  },
  {
   "cell_type": "code",
   "execution_count": 54,
   "metadata": {},
   "outputs": [
    {
     "name": "stdout",
     "output_type": "stream",
     "text": [
      "(7196, 23)\n",
      "[[\"'MFCCs_ 1'\" \"'MFCCs_ 2'\" \"'MFCCs_ 3'\" ..., \"'MFCCs_21'\" \"'MFCCs_22'\" '1']\n",
      " [\"'1'\" \"'0.152936298220384'\" \"'-0.105585902844019'\" ...,\n",
      "  \"'0.118680135068692'\" \"'0.0140384456733697'\" '0']\n",
      " [\"'1'\" \"'0.171534257314109'\" \"'-0.0989747371205295'\" ...,\n",
      "  \"'0.0822629868835422'\" \"'0.0290557421631693'\" '0']\n",
      " ..., \n",
      " [\"'1'\" \"'-0.582556780749031'\" \"'-0.343237394473775'\" ...,\n",
      "  \"'-0.000530614769783166'\" \"'-0.0804253341452265'\" '1']\n",
      " [\"'1'\" \"'-0.519497158109369'\" \"'-0.307553060247487'\" ...,\n",
      "  \"'-0.0279113833801593'\" \"'-0.0968953697801283'\" '1']\n",
      " [\"'1'\" \"'-0.50883317808137'\" \"'-0.324105836835993'\" ...,\n",
      "  \"'-0.0293554758329867'\" \"'-0.0879096247852919'\" '1']]\n",
      "[\"'MFCCs_ 1'\" \"'MFCCs_ 2'\" \"'MFCCs_ 3'\" \"'MFCCs_ 4'\" \"'MFCCs_ 5'\"\n",
      " \"'MFCCs_ 6'\" \"'MFCCs_ 7'\" \"'MFCCs_ 8'\" \"'MFCCs_ 9'\" \"'MFCCs_10'\"\n",
      " \"'MFCCs_11'\" \"'MFCCs_12'\" \"'MFCCs_13'\" \"'MFCCs_14'\" \"'MFCCs_15'\"\n",
      " \"'MFCCs_16'\" \"'MFCCs_17'\" \"'MFCCs_18'\" \"'MFCCs_19'\" \"'MFCCs_20'\"\n",
      " \"'MFCCs_21'\" \"'MFCCs_22'\" '1']\n"
     ]
    },
    {
     "ename": "ValueError",
     "evalue": "could not convert string to float: \"'1'\"",
     "output_type": "error",
     "traceback": [
      "\u001b[0;31m---------------------------------------------------------------------------\u001b[0m",
      "\u001b[0;31mValueError\u001b[0m                                Traceback (most recent call last)",
      "\u001b[0;32mC:\\Users\\Yashad\\Desktop\\git\\Artificial-Intelligence\\A6grader.py\u001b[0m in \u001b[0;36m<module>\u001b[0;34m()\u001b[0m\n\u001b[1;32m     14\u001b[0m \u001b[1;33m\u001b[0m\u001b[0m\n\u001b[1;32m     15\u001b[0m \u001b[0mXanuran\u001b[0m \u001b[1;33m=\u001b[0m \u001b[0mnp\u001b[0m\u001b[1;33m.\u001b[0m\u001b[0mchararray\u001b[0m\u001b[1;33m.\u001b[0m\u001b[0mstrip\u001b[0m\u001b[1;33m(\u001b[0m\u001b[0mXanuran\u001b[0m\u001b[1;33m,\u001b[0m\u001b[1;34m'\"'\u001b[0m\u001b[1;33m)\u001b[0m\u001b[1;33m\u001b[0m\u001b[0m\n\u001b[0;32m---> 16\u001b[0;31m \u001b[0mXanuran\u001b[0m \u001b[1;33m=\u001b[0m \u001b[0mnp\u001b[0m\u001b[1;33m.\u001b[0m\u001b[0masarray\u001b[0m\u001b[1;33m(\u001b[0m\u001b[0mXanuran\u001b[0m\u001b[1;33m,\u001b[0m\u001b[0mdtype\u001b[0m\u001b[1;33m=\u001b[0m\u001b[0mfloat\u001b[0m\u001b[1;33m)\u001b[0m\u001b[1;33m\u001b[0m\u001b[0m\n\u001b[0m\u001b[1;32m     17\u001b[0m \u001b[1;33m\u001b[0m\u001b[0m\n\u001b[1;32m     18\u001b[0m \u001b[1;31m#Tanuran = np.asarray(Tanuran, dtype=int)\u001b[0m\u001b[1;33m\u001b[0m\u001b[1;33m\u001b[0m\u001b[0m\n",
      "\u001b[0;32mC:\\Users\\Yashad\\Desktop\\Anaconda3\\lib\\site-packages\\numpy\\core\\numeric.py\u001b[0m in \u001b[0;36masarray\u001b[0;34m(a, dtype, order)\u001b[0m\n\u001b[1;32m    529\u001b[0m \u001b[1;33m\u001b[0m\u001b[0m\n\u001b[1;32m    530\u001b[0m     \"\"\"\n\u001b[0;32m--> 531\u001b[0;31m     \u001b[1;32mreturn\u001b[0m \u001b[0marray\u001b[0m\u001b[1;33m(\u001b[0m\u001b[0ma\u001b[0m\u001b[1;33m,\u001b[0m \u001b[0mdtype\u001b[0m\u001b[1;33m,\u001b[0m \u001b[0mcopy\u001b[0m\u001b[1;33m=\u001b[0m\u001b[1;32mFalse\u001b[0m\u001b[1;33m,\u001b[0m \u001b[0morder\u001b[0m\u001b[1;33m=\u001b[0m\u001b[0morder\u001b[0m\u001b[1;33m)\u001b[0m\u001b[1;33m\u001b[0m\u001b[0m\n\u001b[0m\u001b[1;32m    532\u001b[0m \u001b[1;33m\u001b[0m\u001b[0m\n\u001b[1;32m    533\u001b[0m \u001b[1;33m\u001b[0m\u001b[0m\n",
      "\u001b[0;31mValueError\u001b[0m: could not convert string to float: \"'1'\""
     ]
    }
   ],
   "source": [
    "species_convert = lambda x: 0 if b'AdenomeraAndre' in x else 1 if b'AdenomeraHylaedactylus' else 2 if b'Ameeregatrivittata' else 3 if b'HylaMinuta' else 4 if b'HypsiboasCinerascens' else 5 if b'HypsiboasCordobae' else 6 if b'LeptodactylusFuscus' else 7 if b'OsteocephalusOophagus' else 8 if b'Rhinellagranulosa' else 9    \n",
    "data = np.loadtxt('C:/Users/Yashad/Desktop/Books/AI/Frogs_MFCCs.csv',delimiter = ',',dtype = str,usecols=(0,1,2,3,4,5,6,7,8,9,10,11,12,13,14,15,16,17,18,19,20,21,24),converters = {24: species_convert})\n",
    "print(data.shape)\n",
    "data = np.chararray.strip(data,'\"')\n",
    "data = np.chararray.strip(data,'b')\n",
    "data = np.chararray.strip(data,'\"')\n",
    "data = np.asarray(data,dtype=str)\n",
    "print(data)\n",
    "names = data[0]\n",
    "print(names) \n",
    "Xanuran = data[1:,:22]\n",
    "Tanuran = data[1:,22:]\n",
    "Xanuran = np.chararray.strip(Xanuran,'\"')\n",
    "Xanuran = np.asarray(Xanuran,dtype=float) \n",
    "#Tanuran = np.asarray(Tanuran, dtype=int)\n",
    "Xanuran.shape, Tanuran.shape\n",
    "Xnames = names[:22]\n",
    "Tnames = names[22:]\n",
    "Xnames, Tnames"
   ]
  },
  {
   "cell_type": "code",
   "execution_count": 27,
   "metadata": {},
   "outputs": [
    {
     "data": {
      "text/plain": [
       "((7195, 22), (7195, 1))"
      ]
     },
     "execution_count": 27,
     "metadata": {},
     "output_type": "execute_result"
    }
   ],
   "source": [
    "Xanuran.shape, Tanuran.shape"
   ]
  },
  {
   "cell_type": "code",
   "execution_count": 28,
   "metadata": {},
   "outputs": [
    {
     "data": {
      "text/plain": [
       "chararray([[\"'1'\", \"'0.152936298220384'\", \"'-0.105585902844019'\",\n",
       "        \"'0.200721914808566'\", \"'0.317201062343259'\",\n",
       "        \"'0.260763853131077'\", \"'0.100944640810053'\",\n",
       "        \"'-0.150062604917616'\", \"'-0.17112763198601'\",\n",
       "        \"'0.124676436148438'\", \"'0.188654145822323'\",\n",
       "        \"'-0.0756217229244772'\", \"'-0.156435925226375'\",\n",
       "        \"'0.0822451152835443'\", \"'0.135752042383891'\",\n",
       "        \"'-0.0240166450287792'\", \"'-0.108351107221198'\",\n",
       "        \"'-0.0776225214037558'\", \"'-0.00956780151914234'\",\n",
       "        \"'0.0576839754007957'\", \"'0.118680135068692'\",\n",
       "        \"'0.0140384456733697'\"],\n",
       "       [\"'1'\", \"'0.171534257314109'\", \"'-0.0989747371205295'\",\n",
       "        \"'0.268425220827017'\", \"'0.338671862995453'\",\n",
       "        \"'0.268353099863332'\", \"'0.0608350871920449'\",\n",
       "        \"'-0.222474640379244'\", \"'-0.207692670568256'\",\n",
       "        \"'0.170882873543032'\", \"'0.27095827998887'\",\n",
       "        \"'-0.0950039445276873'\", \"'-0.254341468381362'\",\n",
       "        \"'0.0227862345814336'\", \"'0.163320101050209'\",\n",
       "        \"'0.0120222808645159'\", \"'-0.0909740108032878'\",\n",
       "        \"'-0.0565095219192882'\", \"'-0.035303356812479'\",\n",
       "        \"'0.0201399631478018'\", \"'0.0822629868835422'\",\n",
       "        \"'0.0290557421631693'\"]], \n",
       "      dtype='<U24')"
      ]
     },
     "execution_count": 28,
     "metadata": {},
     "output_type": "execute_result"
    }
   ],
   "source": [
    "Xanuran[:2,:]"
   ]
  },
  {
   "cell_type": "code",
   "execution_count": 29,
   "metadata": {},
   "outputs": [
    {
     "data": {
      "text/plain": [
       "chararray([['0'],\n",
       "       ['0']], \n",
       "      dtype='<U24')"
      ]
     },
     "execution_count": 29,
     "metadata": {},
     "output_type": "execute_result"
    }
   ],
   "source": [
    "Tanuran[:2]"
   ]
  },
  {
   "cell_type": "code",
   "execution_count": 30,
   "metadata": {},
   "outputs": [
    {
     "ename": "TypeError",
     "evalue": "comparison of non-string arrays",
     "output_type": "error",
     "traceback": [
      "\u001b[0;31m---------------------------------------------------------------------------\u001b[0m",
      "\u001b[0;31mTypeError\u001b[0m                                 Traceback (most recent call last)",
      "\u001b[0;32m<ipython-input-30-dee233b5e34b>\u001b[0m in \u001b[0;36m<module>\u001b[0;34m()\u001b[0m\n\u001b[1;32m      1\u001b[0m \u001b[1;32mfor\u001b[0m \u001b[0mi\u001b[0m \u001b[1;32min\u001b[0m \u001b[0mrange\u001b[0m\u001b[1;33m(\u001b[0m\u001b[1;36m10\u001b[0m\u001b[1;33m)\u001b[0m\u001b[1;33m:\u001b[0m\u001b[1;33m\u001b[0m\u001b[0m\n\u001b[0;32m----> 2\u001b[0;31m     \u001b[0mprint\u001b[0m\u001b[1;33m(\u001b[0m\u001b[1;34m'{} samples in class {}'\u001b[0m\u001b[1;33m.\u001b[0m\u001b[0mformat\u001b[0m\u001b[1;33m(\u001b[0m\u001b[0mnp\u001b[0m\u001b[1;33m.\u001b[0m\u001b[0msum\u001b[0m\u001b[1;33m(\u001b[0m\u001b[0mTanuran\u001b[0m\u001b[1;33m==\u001b[0m\u001b[0mi\u001b[0m\u001b[1;33m)\u001b[0m\u001b[1;33m,\u001b[0m \u001b[0mi\u001b[0m\u001b[1;33m)\u001b[0m\u001b[1;33m)\u001b[0m\u001b[1;33m\u001b[0m\u001b[0m\n\u001b[0m",
      "\u001b[0;32mC:\\Users\\Yashad\\Desktop\\Anaconda3\\lib\\site-packages\\numpy\\core\\defchararray.py\u001b[0m in \u001b[0;36m__eq__\u001b[0;34m(self, other)\u001b[0m\n\u001b[1;32m   1874\u001b[0m         \u001b[0mequal\u001b[0m\u001b[1;33m\u001b[0m\u001b[0m\n\u001b[1;32m   1875\u001b[0m         \"\"\"\n\u001b[0;32m-> 1876\u001b[0;31m         \u001b[1;32mreturn\u001b[0m \u001b[0mequal\u001b[0m\u001b[1;33m(\u001b[0m\u001b[0mself\u001b[0m\u001b[1;33m,\u001b[0m \u001b[0mother\u001b[0m\u001b[1;33m)\u001b[0m\u001b[1;33m\u001b[0m\u001b[0m\n\u001b[0m\u001b[1;32m   1877\u001b[0m \u001b[1;33m\u001b[0m\u001b[0m\n\u001b[1;32m   1878\u001b[0m     \u001b[1;32mdef\u001b[0m \u001b[0m__ne__\u001b[0m\u001b[1;33m(\u001b[0m\u001b[0mself\u001b[0m\u001b[1;33m,\u001b[0m \u001b[0mother\u001b[0m\u001b[1;33m)\u001b[0m\u001b[1;33m:\u001b[0m\u001b[1;33m\u001b[0m\u001b[0m\n",
      "\u001b[0;32mC:\\Users\\Yashad\\Desktop\\Anaconda3\\lib\\site-packages\\numpy\\core\\defchararray.py\u001b[0m in \u001b[0;36mequal\u001b[0;34m(x1, x2)\u001b[0m\n\u001b[1;32m    118\u001b[0m     \u001b[0mnot_equal\u001b[0m\u001b[1;33m,\u001b[0m \u001b[0mgreater_equal\u001b[0m\u001b[1;33m,\u001b[0m \u001b[0mless_equal\u001b[0m\u001b[1;33m,\u001b[0m \u001b[0mgreater\u001b[0m\u001b[1;33m,\u001b[0m \u001b[0mless\u001b[0m\u001b[1;33m\u001b[0m\u001b[0m\n\u001b[1;32m    119\u001b[0m     \"\"\"\n\u001b[0;32m--> 120\u001b[0;31m     \u001b[1;32mreturn\u001b[0m \u001b[0mcompare_chararrays\u001b[0m\u001b[1;33m(\u001b[0m\u001b[0mx1\u001b[0m\u001b[1;33m,\u001b[0m \u001b[0mx2\u001b[0m\u001b[1;33m,\u001b[0m \u001b[1;34m'=='\u001b[0m\u001b[1;33m,\u001b[0m \u001b[1;32mTrue\u001b[0m\u001b[1;33m)\u001b[0m\u001b[1;33m\u001b[0m\u001b[0m\n\u001b[0m\u001b[1;32m    121\u001b[0m \u001b[1;33m\u001b[0m\u001b[0m\n\u001b[1;32m    122\u001b[0m \u001b[1;32mdef\u001b[0m \u001b[0mnot_equal\u001b[0m\u001b[1;33m(\u001b[0m\u001b[0mx1\u001b[0m\u001b[1;33m,\u001b[0m \u001b[0mx2\u001b[0m\u001b[1;33m)\u001b[0m\u001b[1;33m:\u001b[0m\u001b[1;33m\u001b[0m\u001b[0m\n",
      "\u001b[0;31mTypeError\u001b[0m: comparison of non-string arrays"
     ]
    }
   ],
   "source": [
    "for i in range(10):\n",
    "    print('{} samples in class {}'.format(np.sum(Tanuran==i), i))"
   ]
  },
  {
   "cell_type": "code",
   "execution_count": null,
   "metadata": {},
   "outputs": [],
   "source": [
    "results = trainNNs(Xanuran, Tanuran, 0.8, [0, 5, 20, 50,80, [3,3],[5, 5], [10, 10], [20,20]], 5, 100, classify=True)"
   ]
  },
  {
   "cell_type": "code",
   "execution_count": null,
   "metadata": {},
   "outputs": [],
   "source": [
    "summarize(results)"
   ]
  },
  {
   "cell_type": "code",
   "execution_count": null,
   "metadata": {},
   "outputs": [],
   "source": [
    "bestNetwork(summarize(results))"
   ]
  },
  {
   "cell_type": "markdown",
   "metadata": {},
   "source": [
    "Now do an investigation like you did for the regression data. \n",
    "\n",
    "Test at least 10 different hidden layer structures. Then train another network with your best hidden layer structure on 0.8 of the data and use the trained network on the testing data (the remaining 0.2 of the date). \n",
    "\n",
    "Plot the predicted and actual `Species` for the testing data as an integer.  Discuss what you see."
   ]
  },
  {
   "cell_type": "markdown",
   "metadata": {},
   "source": [
    "## Grading\n",
    "\n",
    "Download [A6grader.tar](http://www.cs.colostate.edu/~anderson/cs440/notebooks/A6grader.tar) and extract `A6grader.py` from it."
   ]
  },
  {
   "cell_type": "code",
   "execution_count": 61,
   "metadata": {
    "scrolled": true
   },
   "outputs": [
    {
     "name": "stdout",
     "output_type": "stream",
     "text": [
      "\n",
      "Testing summarize([[[1,1], [1.2, 1.3, 1.4], [2.2, 2.3, 2.4], 0.5], [[2,2,2], [4.4, 4.3, 4.2], [6.5, 6.4, 6.3], 0.6]])\n",
      "\n",
      "\n",
      "\n",
      "--- 10/10 points. Correctly returned [[[1, 1], 1.3, 2.3000000000000003, 0.5], [[2, 2, 2], 4.2999999999999998, 6.3999999999999995, 0.6]]\n",
      "\n",
      "Testing bestNetwork([[[1, 1], 1.3, 2.3, 0.5], [[2, 2, 2], 4.3, 1.3, 0.6]])\n",
      "\n",
      "--- 10/10 points. Correctly returned [[2, 2, 2], 4.3, 1.3, 0.6]\n",
      "\n",
      "X = np.random.uniform(-1, 1, (100, 3))\n",
      "T = np.hstack(((X**2 - 0.2*X**3).sum(axis=1,keepdims=True),\n",
      "               (np.sin(X)).sum(axis=1,keepdims=True)))\n",
      "result = trainNNs(X, T, 0.7, [0, 5, 10, [20, 20]], 10, 100, False)\n",
      "\n",
      "--- 20/20 points. Correct.\n",
      "\n",
      "Testing bestNetwork(summarize(result))\n",
      "\n",
      "\n",
      "\n",
      "\n",
      "\n",
      "--- 20/20 points. You correctly found that network [20, 20] is best.\n",
      "\n",
      "C:\\Users\\Yashad\\Desktop\\git\\Artificial-Intelligence Execution Grade is 60/60\n",
      "\n",
      "======================= The regression data set =======================\n",
      "\n",
      "--- _/5 points. Read the data in energydata_complete.csv into variables Xenergy and Tenergy.\n",
      "\n",
      "--- _/5 points. Train some networks by calling the NeuralNetwork constructor and train method and plot the error trace to help you decide now many iterations might be needed.\n",
      "\n",
      "--- _/5 points. Try at least 10 different hidden layer structures using trainNNs.\n",
      "\n",
      "--- _/5 points. Train another network with your best hidden layer structure on 0.8 of the data and test it on remaining 0.2 of the data. Plot the predicted and actual Appliances energy use, and the predicted and actual lights energy use, in two separate plots. Discuss what you see.\n",
      "\n",
      "======================= Classification data set =======================\n",
      "\n",
      "--- _/5 points. Read the data in Frogs_MFCCs.csv into variables Xanuran and Tanuran.\n",
      "\n",
      "--- _/5 points. Train some networks by calling the NeuralNetwork constructor and train method and plot the error trace to help you decide now many iterations might be needed.\n",
      "\n",
      "--- _/5 points. Try at least 10 different hidden layer structures using trainNNs.\n",
      "\n",
      "--- _/5 points. Train another network with your best hidden layer structure on 0.8 of the data and test it on remaining 0.2 of the data. Plot the predicted and actual Appliances energy use, and the predicted and actual lights energy use, in two separate plots. Discuss what you see.\n",
      "\n",
      "C:\\Users\\Yashad\\Desktop\\git\\Artificial-Intelligence Notebook Grade is __/40\n",
      "\n",
      "C:\\Users\\Yashad\\Desktop\\git\\Artificial-Intelligence FINAL GRADE is __/100\n"
     ]
    }
   ],
   "source": [
    "%run -i \"A6grader.py\""
   ]
  },
  {
   "cell_type": "markdown",
   "metadata": {},
   "source": [
    "## Check-in"
   ]
  },
  {
   "cell_type": "code",
   "execution_count": null,
   "metadata": {},
   "outputs": [],
   "source": [
    "list1 = [[0,\n",
    "                      [0.38, 0.37, 0.39, 0.36, 0.33, 0.37, 0.38, 0.39, 0.38, 0.38],\n",
    "                      [0.36, 0.39, 0.35, 0.42, 0.47, 0.40, 0.37, 0.34, 0.38, 0.38],\n",
    "                      0.03],\n",
    "                     [5,\n",
    "                      [0.08, 0.07, 0.06, 0.08, 0.09, 0.05, 0.06, 0.08, 0.05, 0.09],\n",
    "                      [0.11, 0.10, 0.06, 0.10, 0.13, 0.06, 0.12, 0.10, 0.07, 0.12],\n",
    "                      0.84],\n",
    "                     [10,\n",
    "                      [0.05, 0.04, 0.05, 0.03, 0.04, 0.05, 0.04, 0.04, 0.04, 0.05],\n",
    "                      [0.07, 0.05, 0.08, 0.08, 0.07, 0.09, 0.07, 0.07, 0.07, 0.08],\n",
    "                      0.76],\n",
    "                     [[20, 20],\n",
    "                      [0.02, 0.02, 0.03, 0.02, 0.02, 0.02, 0.02, 0.03, 0.03, 0.03],\n",
    "                      [0.06, 0.07, 0.05, 0.05, 0.04, 0.05, 0.07, 0.06, 0.06, 0.11],\n",
    "                      1.52]]\n",
    "len(list1)"
   ]
  },
  {
   "cell_type": "markdown",
   "metadata": {},
   "source": [
    "Do not include this section in your notebook.\n",
    "\n",
    "Name your notebook ```Lastname-A6.ipynb```.  So, for me it would be ```Anderson-A3.ipynb```.  Submit the file using the ```Assignment 3``` link on [Canvas](https://colostate.instructure.com/courses/41327)."
   ]
  },
  {
   "cell_type": "markdown",
   "metadata": {},
   "source": [
    "## Extra Credit\n",
    "\n",
    "  2. Repeat the above regression and classification experiments with a second regression data set and a second classification data set.\n",
    "  \n",
    "  2. Since you are collecting the performance of all repetitions for each network structure, you can calculate a confidence interval about the mean, to help judge significant differences. Do this for either the regression or the classification data and plot the mean test performance with confidence intervals for each network structure tested.  Discuss the statistical significance of the differences among the means.  One website I found to help with this is the site [Correct way to obtain confidence interval with scipy](https://stackoverflow.com/questions/28242593/correct-way-to-obtain-confidence-interval-with-scipy).\n",
    "  \n"
   ]
  }
 ],
 "metadata": {
  "anaconda-cloud": {},
  "kernelspec": {
   "display_name": "Python [conda root]",
   "language": "python",
   "name": "conda-root-py"
  },
  "language_info": {
   "codemirror_mode": {
    "name": "ipython",
    "version": 3
   },
   "file_extension": ".py",
   "mimetype": "text/x-python",
   "name": "python",
   "nbconvert_exporter": "python",
   "pygments_lexer": "ipython3",
   "version": "3.5.2"
  },
  "toc": {
   "nav_menu": {},
   "number_sections": true,
   "sideBar": true,
   "skip_h1_title": false,
   "toc_cell": false,
   "toc_position": {},
   "toc_section_display": "block",
   "toc_window_display": false
  }
 },
 "nbformat": 4,
 "nbformat_minor": 1
}
