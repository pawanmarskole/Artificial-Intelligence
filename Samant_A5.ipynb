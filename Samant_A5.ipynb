{
 "cells": [
  {
   "cell_type": "markdown",
   "metadata": {},
   "source": [
    "# Reinforcement Learning Solution to the Towers of Hanoi Puzzle"
   ]
  },
  {
   "cell_type": "markdown",
   "metadata": {},
   "source": [
    "## Overview\n",
    "\n",
    "In this assignment, we are applying reinforcement learning applied in class on tic tac toe puzzle on towers of hanoi problem with 3 disks."
   ]
  },
  {
   "cell_type": "markdown",
   "metadata": {},
   "source": [
    "## Required Code"
   ]
  },
  {
   "cell_type": "code",
   "execution_count": 1,
   "metadata": {
    "collapsed": true
   },
   "outputs": [],
   "source": [
    "# importing libraries\n",
    "import numpy as np\n",
    "import copy\n",
    "from IPython.display import display, clear_output\n",
    "import random\n",
    "from random import randint\n",
    "import matplotlib.pyplot as plt"
   ]
  },
  {
   "cell_type": "markdown",
   "metadata": {},
   "source": [
    "Now on to some functions. Define at least the following functions. Examples showing required output appear below.\n",
    "\n",
    "   - `printState(state)`: prints the state in the form shown below\n",
    "   - `validMoves(state)`: returns list of moves that are valid from `state`\n",
    "   - `makeMove(state, move)`: returns new (copy of) state after move has been applied.\n",
    "   - `trainQ(nRepetitions, learningRate, epsilonDecayFactor, validMovesF, makeMoveF)`: train the Q function for number of repetitions, decaying epsilon at start of each repetition. Returns Q and list or array of number of steps to reach goal for each repetition.\n",
    "   - `testQ(Q, maxSteps, validMovesF, makeMoveF)`: without updating Q, use Q to find greedy action each step until goal is found. Return path of states.\n",
    "\n",
    "A function that you might choose to implement is\n",
    "\n",
    "   - `stateMoveTuple(state, move)`: returns tuple of state and move.  \n",
    "    \n",
    "This is useful for converting state and move to a key to be used for the Q dictionary."
   ]
  },
  {
   "cell_type": "code",
   "execution_count": 2,
   "metadata": {
    "collapsed": false
   },
   "outputs": [
    {
     "name": "stdout",
     "output_type": "stream",
     "text": [
      "     \n",
      "  1  \n",
      "3 2  \n",
      "----------\n"
     ]
    }
   ],
   "source": [
    "#Added 0s instead of blank spaces with the first for loop\n",
    "#Made a list of updated state and printed it\n",
    "def printState(state): \n",
    "    for pegs in state:\n",
    "        for i in range (3 -len(pegs)):\n",
    "            pegs.insert(0,0)\n",
    "    for i in range(len(state)):\n",
    "        list = []\n",
    "        for j in range(3):\n",
    "            if state[j][i] ==0:\n",
    "                list.append(\" \")\n",
    "            else:\n",
    "                list.append(state[j][i])\n",
    "        print(list[0], list[1], list[2])\n",
    "        \n",
    "    print('----------')\n",
    "\n",
    "state = [[3], [1,2], []]\n",
    "printState(state)"
   ]
  },
  {
   "cell_type": "code",
   "execution_count": 3,
   "metadata": {
    "collapsed": false
   },
   "outputs": [
    {
     "data": {
      "text/plain": [
       "[[3, 2], [3, 1]]"
      ]
     },
     "execution_count": 3,
     "metadata": {},
     "output_type": "execute_result"
    }
   ],
   "source": [
    "# hard coded for each combination of disk in pegs using if else loops\n",
    "def validMoves(state):\n",
    "    moves = [] \n",
    "    first = (state[0])\n",
    "    second = (state[1])\n",
    "    third = (state[2])\n",
    "    if len(first) > len(second):\n",
    "           if len(second)==0:\n",
    "                  moves.append([1,2])\n",
    "           elif len(second)>0:\n",
    "                  if (state[0])[0] > (state[1])[0]:\n",
    "                         moves.append([2,1])\n",
    "                  elif (state[0])[0] < (state[1])[0]:\n",
    "                         moves.append([1,2])     \n",
    "    if len(second) > len(first):\n",
    "           if len(first)==0:\n",
    "                  moves.append([2,1])\n",
    "           elif len(first)>0:\n",
    "                  if (state[0])[0] > (state[1])[0]:\n",
    "                         moves.append([2,1])\n",
    "                  elif (state[0])[0] < (state[1])[0]:\n",
    "                         moves.append([1,2]) \n",
    "    if len(second) > len(third):\n",
    "           if len(third)==0:\n",
    "                  moves.append([2,3])\n",
    "           elif len(third)>0:\n",
    "                  if (state[1])[0] > (state[2])[0]:\n",
    "                         moves.append([3,2])\n",
    "                  elif (state[1])[0] < (state[2])[0]:\n",
    "                         moves.append([2,3]) \n",
    "    if len(third) > len(second):\n",
    "           if len(second)==0:\n",
    "                  moves.append([3,2])\n",
    "           elif len(second)>0:\n",
    "                  if (state[1])[0] > (state[2])[0]:\n",
    "                         moves.append([3,2])\n",
    "                  elif (state[1])[0] < (state[2])[0]:\n",
    "                         moves.append([2,3]) \n",
    "    if len(first) > len(third):\n",
    "           if len(third)==0:\n",
    "                  moves.append([1,3])\n",
    "           elif len(third)>0:\n",
    "                  if (state[0])[0] > (state[2])[0]:\n",
    "                         moves.append([3,1])\n",
    "                  elif (state[0])[0] < (state[2])[0]:\n",
    "                         moves.append([1,3]) \n",
    "    if len(third) > len(first):\n",
    "           if len(first)==0:\n",
    "                  moves.append([3,1])\n",
    "           elif len(first)>0:\n",
    "                  if (state[0])[0] > (state[2])[0]:\n",
    "                         moves.append([3,1])\n",
    "                  elif (state[0])[0] < (state[2])[0]:\n",
    "                         moves.append([1,3])     \n",
    "    if len(first) == len(third) and len(first) != 0 and len(third) !=0:                   \n",
    "                  if (state[0])[0] > (state[2])[0]:\n",
    "                         moves.append([3,1])\n",
    "                  elif (state[0])[0] < (state[2])[0]:\n",
    "                         moves.append([1,3])  \n",
    "    if len(second) == len(third) and len(second) != 0 and len(third) !=0:   \n",
    "                  if (state[1])[0] > (state[2])[0]:\n",
    "                         moves.append([3,2])\n",
    "                  elif (state[1])[0] < (state[2])[0]:\n",
    "                         moves.append([2,3])                   \n",
    "    if len(first) == len(second) and len(first) != 0 and len(second) !=0:\n",
    "                  if (state[0])[0] > (state[1])[0]:\n",
    "                         moves.append([2,1])\n",
    "                  elif (state[0])[0] < (state[1])[0]:\n",
    "                         moves.append([1,2]) \n",
    "              \n",
    "\n",
    "    return moves\n",
    "state = [[], [], [1,2,3]]\n",
    "validMoves(state)"
   ]
  },
  {
   "cell_type": "code",
   "execution_count": 4,
   "metadata": {
    "collapsed": false
   },
   "outputs": [],
   "source": [
    "#made a copy of the state\n",
    "#extracted the element to transfer\n",
    "#deleted it from the previous peg\n",
    "def makeMove(state, move):\n",
    "    temp = copy.deepcopy(state)\n",
    "    #print(temp)\n",
    "    element = state[move[0]-1][0]\n",
    "    #print(element)\n",
    "    del temp[move[0]-1][0]\n",
    "    #print(tempstate[move[0]][0])\n",
    "    temp[move[1]-1].insert(0,element)\n",
    "    return(temp)\n",
    "                \n",
    "# converted the obtained the state and move from the valid moves into a tuple to use it in trainQ function\n",
    "# applied conditions to check whether the peg is empty, if its empty just return empty tuple\n",
    "def stateMoveTuple(state, move):\n",
    "    move_temp = copy.deepcopy(move)\n",
    "    temp = []\n",
    "    for peg in state:\n",
    "        \n",
    "        if peg != []:\n",
    "            temp.append(tuple(peg))\n",
    "        else:\n",
    "            temp.append(tuple())\n",
    "\n",
    "    return(tuple([tuple(temp)]) + tuple([tuple(move_temp)]))\n",
    "\n",
    "# used the same function used in class\n",
    "def epsilonGreedy(epsilon, Q, state):\n",
    "    validMove = validMoves(state)\n",
    "\n",
    "    if np.random.uniform() < epsilon:       \n",
    "        # Random Move\n",
    "        return validMove[randint(0, len(validMove)-1)]\n",
    "    else:\n",
    "        # Greedy Move\n",
    "        Qs = np.array([Q.get(stateMoveTuple(state, move), 0) for move in validMove]) \n",
    "        return validMove[ np.argmin(Qs) ]\n",
    "\n",
    "    \n",
    "def winner(state):\n",
    "    final_state = [[], [], [1,2,3]]\n",
    "    if state == final_state:\n",
    "        return True"
   ]
  },
  {
   "cell_type": "code",
   "execution_count": 5,
   "metadata": {
    "collapsed": false
   },
   "outputs": [
    {
     "data": {
      "text/plain": [
       "[1, 3]"
      ]
     },
     "execution_count": 5,
     "metadata": {},
     "output_type": "execute_result"
    }
   ],
   "source": [
    "Q = {}\n",
    "state = [[1,2,3],[],[]]\n",
    "epsilonGreedy(0.9, Q, state)"
   ]
  },
  {
   "cell_type": "code",
   "execution_count": 6,
   "metadata": {
    "collapsed": false
   },
   "outputs": [],
   "source": [
    "# initialize the necessary variables\n",
    "# run a loop till maxGames\n",
    "# start with decaying epsilon\n",
    "# run an infinite loop until we get the final output\n",
    "# In winner function run the update the Q value to 0, once the final state is obtained return true\n",
    "# If we dont get the final state update it to -1 or 1.\n",
    "# save the old states in a new variable and replace state by nextState\n",
    "# return Q and step goal\n",
    "def trainQ(nRepetitions, learningRate, epsilonDecayFactor, validMoves, makeMove):\n",
    "    global Q    \n",
    "    maxGames = nRepetitions\n",
    "    rho = learningRate\n",
    "    epsilonDecayRate = epsilonDecayFactor\n",
    "    epsilon = 1\n",
    "    Q = {}   \n",
    "    Stepstogoal = []\n",
    "    for nGames in range(maxGames):\n",
    "        epsilon *= epsilonDecayRate\n",
    "        step = 0\n",
    "        state = [[1,2,3], [], []] #  start state\n",
    "        done = False\n",
    "        while not done:        \n",
    "            step += 1\n",
    "            move = epsilonGreedy(epsilon, Q, state)\n",
    "            nextState = makeMove(state,move) \n",
    "            if winner(nextState):\n",
    "                Q[stateMoveTuple(state, move)] = 0\n",
    "                done = True\n",
    "            if stateMoveTuple(state, move) not in Q:\n",
    "                Q[stateMoveTuple(state, move)] = -1  # initial Q value for new state,move\n",
    "            if step > 1:\n",
    "                Q[stateMoveTuple(stateOld, moveOld)] += rho * (1+Q[stateMoveTuple(state, move)] - Q[stateMoveTuple(stateOld, moveOld)])\n",
    "            stateOld, moveOld = state, move \n",
    "            state = nextState\n",
    "        Stepstogoal.append(step)\n",
    "    return Q,Stepstogoal\n",
    "    "
   ]
  },
  {
   "cell_type": "code",
   "execution_count": 7,
   "metadata": {
    "collapsed": false
   },
   "outputs": [],
   "source": [
    "# Use similar functions for test function except dont train the Q value\n",
    "# Instead use the Q value to get the output\n",
    "def testQ(Q, maxSteps, validMovesF, makeMoveF):\n",
    "    state = [[1,2,3], [], []] #  start state\n",
    "    newState = []\n",
    "    while(1):\n",
    "        validmoves = validMoves(state)\n",
    "        for move in validmoves:\n",
    "            Qs = np.array([Q.get(stateMoveTuple(state, move), 0) for move in validmoves]) \n",
    "        move = validmoves[np.argmin(Qs)]    \n",
    "        newstate = makeMove(state, move)\n",
    "        newState.append(newstate)\n",
    "        if winner(newstate):\n",
    "            break\n",
    "        state = newstate\n",
    "    return newState"
   ]
  },
  {
   "cell_type": "code",
   "execution_count": 8,
   "metadata": {
    "collapsed": false
   },
   "outputs": [
    {
     "name": "stdout",
     "output_type": "stream",
     "text": [
      "1    \n",
      "2    \n",
      "3    \n",
      "----------\n"
     ]
    }
   ],
   "source": [
    "state = [[1,2,3], [], []]\n",
    "printState(state)"
   ]
  },
  {
   "cell_type": "code",
   "execution_count": 9,
   "metadata": {
    "collapsed": false
   },
   "outputs": [
    {
     "data": {
      "text/plain": [
       "[[1, 3], [2, 3], [1, 2]]"
      ]
     },
     "execution_count": 9,
     "metadata": {},
     "output_type": "execute_result"
    }
   ],
   "source": [
    "state = [[2, 3], [], [1]]\n",
    "validMoves([[1], [2], [3]])"
   ]
  },
  {
   "cell_type": "code",
   "execution_count": 10,
   "metadata": {
    "collapsed": false
   },
   "outputs": [
    {
     "data": {
      "text/plain": [
       "(((2, 3), (), (1,)), (1, 2))"
      ]
     },
     "execution_count": 10,
     "metadata": {},
     "output_type": "execute_result"
    }
   ],
   "source": [
    "move =[1, 2]\n",
    "\n",
    "stateMoveTuple(state, move)"
   ]
  },
  {
   "cell_type": "code",
   "execution_count": 11,
   "metadata": {
    "collapsed": false
   },
   "outputs": [
    {
     "data": {
      "text/plain": [
       "[[], [1], [2, 3]]"
      ]
     },
     "execution_count": 11,
     "metadata": {},
     "output_type": "execute_result"
    }
   ],
   "source": [
    "move = [0,1]\n",
    "newstate = makeMove([[], [], [1, 2, 3]], [3, 2])\n",
    "\n",
    "\n",
    "newstate"
   ]
  },
  {
   "cell_type": "code",
   "execution_count": 12,
   "metadata": {
    "collapsed": false
   },
   "outputs": [
    {
     "name": "stdout",
     "output_type": "stream",
     "text": [
      "     \n",
      "    2\n",
      "  1 3\n",
      "----------\n"
     ]
    }
   ],
   "source": [
    "printState(newstate)"
   ]
  },
  {
   "cell_type": "code",
   "execution_count": 13,
   "metadata": {
    "collapsed": false,
    "scrolled": false
   },
   "outputs": [
    {
     "name": "stdout",
     "output_type": "stream",
     "text": [
      "76\n"
     ]
    }
   ],
   "source": [
    "Q, stepsToGoal = trainQ(50, 0.5, 0.7, validMoves, makeMove)\n",
    "print(len(Q))"
   ]
  },
  {
   "cell_type": "code",
   "execution_count": 14,
   "metadata": {
    "collapsed": false,
    "scrolled": true
   },
   "outputs": [
    {
     "data": {
      "text/plain": [
       "[171,\n",
       " 71,\n",
       " 44,\n",
       " 29,\n",
       " 49,\n",
       " 13,\n",
       " 12,\n",
       " 57,\n",
       " 16,\n",
       " 23,\n",
       " 41,\n",
       " 15,\n",
       " 13,\n",
       " 43,\n",
       " 10,\n",
       " 27,\n",
       " 7,\n",
       " 12,\n",
       " 14,\n",
       " 10,\n",
       " 9,\n",
       " 25,\n",
       " 31,\n",
       " 7,\n",
       " 7,\n",
       " 7,\n",
       " 8,\n",
       " 7,\n",
       " 7,\n",
       " 9,\n",
       " 7,\n",
       " 7,\n",
       " 7,\n",
       " 7,\n",
       " 7,\n",
       " 7,\n",
       " 7,\n",
       " 7,\n",
       " 7,\n",
       " 7,\n",
       " 7,\n",
       " 7,\n",
       " 7,\n",
       " 7,\n",
       " 7,\n",
       " 7,\n",
       " 7,\n",
       " 7,\n",
       " 7,\n",
       " 7]"
      ]
     },
     "execution_count": 14,
     "metadata": {},
     "output_type": "execute_result"
    }
   ],
   "source": [
    "stepsToGoal"
   ]
  },
  {
   "cell_type": "code",
   "execution_count": 15,
   "metadata": {
    "collapsed": false,
    "scrolled": false
   },
   "outputs": [],
   "source": [
    "path = testQ(Q, 20, validMoves, makeMove)"
   ]
  },
  {
   "cell_type": "code",
   "execution_count": 16,
   "metadata": {
    "collapsed": false,
    "scrolled": true
   },
   "outputs": [
    {
     "data": {
      "text/plain": [
       "[[[2, 3], [], [1]],\n",
       " [[3], [2], [1]],\n",
       " [[3], [1, 2], []],\n",
       " [[], [1, 2], [3]],\n",
       " [[1], [2], [3]],\n",
       " [[1], [], [2, 3]],\n",
       " [[], [], [1, 2, 3]]]"
      ]
     },
     "execution_count": 16,
     "metadata": {},
     "output_type": "execute_result"
    }
   ],
   "source": [
    "path"
   ]
  },
  {
   "cell_type": "code",
   "execution_count": 17,
   "metadata": {
    "collapsed": false
   },
   "outputs": [
    {
     "name": "stdout",
     "output_type": "stream",
     "text": [
      "     \n",
      "2    \n",
      "3   1\n",
      "----------\n",
      "\n",
      "     \n",
      "     \n",
      "3 2 1\n",
      "----------\n",
      "\n",
      "     \n",
      "  1  \n",
      "3 2  \n",
      "----------\n",
      "\n",
      "     \n",
      "  1  \n",
      "  2 3\n",
      "----------\n",
      "\n",
      "     \n",
      "     \n",
      "1 2 3\n",
      "----------\n",
      "\n",
      "     \n",
      "    2\n",
      "1   3\n",
      "----------\n",
      "\n",
      "    1\n",
      "    2\n",
      "    3\n",
      "----------\n",
      "\n"
     ]
    }
   ],
   "source": [
    "for s in path:\n",
    "    printState(s)\n",
    "    print()"
   ]
  },
  {
   "cell_type": "markdown",
   "metadata": {},
   "source": [
    "## Result\n",
    "\n",
    "* In the train function, epsilon is the variable which controls the convergence of the problem.\n",
    "* If we increase the maxGames, it doesnt affect the time taken to get the output. As the problem is small, it might be insignificant but with bigger problems we can expect better results.\n",
    "* reinforcement learning is overall a slower method for learning but it gives us flexibility when it comes to the problem. We need not know the target but the computer will find on its own."
   ]
  },
  {
   "cell_type": "markdown",
   "metadata": {},
   "source": [
    "## Grading"
   ]
  },
  {
   "cell_type": "markdown",
   "metadata": {
    "collapsed": true
   },
   "source": [
    "Download and extract `A5grader.py` from [A5grader.tar](http://www.cs.colostate.edu/~anderson/cs440/notebooks/A5grader.tar)."
   ]
  },
  {
   "cell_type": "code",
   "execution_count": 18,
   "metadata": {
    "collapsed": false
   },
   "outputs": [
    {
     "name": "stdout",
     "output_type": "stream",
     "text": [
      "\n",
      "Testing validMoves([[1], [2], [3]])\n",
      "\n",
      "--- 10/10 points. Correctly returned [[1, 3], [2, 3], [1, 2]]\n",
      "\n",
      "Testing validMoves([[], [], [1, 2, 3]])\n",
      "\n",
      "--- 10/10 points. Correctly returned [[3, 2], [3, 1]]\n",
      "\n",
      "Testing makeMove([[], [], [1, 2, 3]], [3, 2])\n",
      "\n",
      "--- 10/10 points. Correctly returned [[], [1], [2, 3]]\n",
      "\n",
      "Testing makeMove([[2], [3], [1]], [1, 2])\n",
      "\n",
      "--- 10/10 points. Correctly returned [[], [2, 3], [1]]\n",
      "\n",
      "Testing   Q, steps = trainQ(1000, 0.5, 0.7, validMoves, makeMove).\n",
      "\n",
      "--- 10/10 points. Q dictionary has correct number of entries.\n",
      "\n",
      "--- 10/10 points. The mean of the number of steps is 7.583 which is correct.\n",
      "\n",
      "Testing   path = testQ(Q, 20, validMoves, makeMove).\n",
      "\n",
      "--- 20/20 points. Correctly returns path of length 7, less than 10.\n",
      "\n",
      "C:\\Users\\Yashad\\Desktop\\Books\\AI Execution Grade is 80/80\n",
      "\n",
      " Remaining 20 points will be based on your text describing the trainQ and test! functions.\n",
      "\n",
      "C:\\Users\\Yashad\\Desktop\\Books\\AI FINAL GRADE is __/100\n"
     ]
    }
   ],
   "source": [
    "%run -i A5grader.py"
   ]
  },
  {
   "cell_type": "markdown",
   "metadata": {},
   "source": [
    "## Extra Credit"
   ]
  },
  {
   "cell_type": "markdown",
   "metadata": {},
   "source": [
    "Modify your code to solve the Towers of Hanoi puzzle with 4 disks instead of 3.  Name your functions\n",
    "\n",
    "    - printState_4disk\n",
    "    - validMoves_4disk\n",
    "    - makeMove_4disk\n",
    "\n",
    "Find values for number of repetitions, learning rate, and epsilon decay factor for which trainQ learns a Q function that testQ can use to find the shortest solution path.  Include the output from the successful calls to trainQ and testQ."
   ]
  },
  {
   "cell_type": "code",
   "execution_count": 19,
   "metadata": {
    "collapsed": false
   },
   "outputs": [
    {
     "name": "stdout",
     "output_type": "stream",
     "text": [
      "     \n",
      "3 1  \n",
      "4 2  \n",
      "----------\n"
     ]
    }
   ],
   "source": [
    "def printState_4disk(state): \n",
    "    for pegs in state:\n",
    "        for i in range (4 -len(pegs)):\n",
    "            pegs.insert(0,0)\n",
    "    for i in range(len(state)):\n",
    "        list = []\n",
    "        for j in range(4):\n",
    "            if state[j][i] ==0:\n",
    "                list.append(\" \")\n",
    "            else:\n",
    "                list.append(state[j][i])\n",
    "        print(list[0], list[1], list[2], )\n",
    "        \n",
    "    print('----------')\n",
    "\n",
    "state = [[3,4], [1,2], []]\n",
    "printState(state)"
   ]
  },
  {
   "cell_type": "code",
   "execution_count": 20,
   "metadata": {
    "collapsed": false
   },
   "outputs": [
    {
     "data": {
      "text/plain": [
       "[[2, 1], [3, 2], [3, 1]]"
      ]
     },
     "execution_count": 20,
     "metadata": {},
     "output_type": "execute_result"
    }
   ],
   "source": [
    "# hard coded for each combination of disk in pegs using if else loops\n",
    "def validMoves_4disk(state):\n",
    "    moves = [] \n",
    "    first = (state[0])\n",
    "    second = (state[1])\n",
    "    third = (state[2])\n",
    "    if len(first) > len(second):\n",
    "           if len(second)==0:\n",
    "                  moves.append([1,2])\n",
    "           elif len(second)>0:\n",
    "                  if (state[0])[0] > (state[1])[0]:\n",
    "                         moves.append([2,1])\n",
    "                  elif (state[0])[0] < (state[1])[0]:\n",
    "                         moves.append([1,2])     \n",
    "    if len(second) > len(first):\n",
    "           if len(first)==0:\n",
    "                  moves.append([2,1])\n",
    "           elif len(first)>0:\n",
    "                  if (state[0])[0] > (state[1])[0]:\n",
    "                         moves.append([2,1])\n",
    "                  elif (state[0])[0] < (state[1])[0]:\n",
    "                         moves.append([1,2]) \n",
    "    if len(second) > len(third):\n",
    "           if len(third)==0:\n",
    "                  moves.append([2,3])\n",
    "           elif len(third)>0:\n",
    "                  if (state[1])[0] > (state[2])[0]:\n",
    "                         moves.append([3,2])\n",
    "                  elif (state[1])[0] < (state[2])[0]:\n",
    "                         moves.append([2,3]) \n",
    "    if len(third) > len(second):\n",
    "           if len(second)==0:\n",
    "                  moves.append([3,2])\n",
    "           elif len(second)>0:\n",
    "                  if (state[1])[0] > (state[2])[0]:\n",
    "                         moves.append([3,2])\n",
    "                  elif (state[1])[0] < (state[2])[0]:\n",
    "                         moves.append([2,3]) \n",
    "    if len(first) > len(third):\n",
    "           if len(third)==0:\n",
    "                  moves.append([1,3])\n",
    "           elif len(third)>0:\n",
    "                  if (state[0])[0] > (state[2])[0]:\n",
    "                         moves.append([3,1])\n",
    "                  elif (state[0])[0] < (state[2])[0]:\n",
    "                         moves.append([1,3]) \n",
    "    if len(third) > len(first):\n",
    "           if len(first)==0:\n",
    "                  moves.append([3,1])\n",
    "           elif len(first)>0:\n",
    "                  if (state[0])[0] > (state[2])[0]:\n",
    "                         moves.append([3,1])\n",
    "                  elif (state[0])[0] < (state[2])[0]:\n",
    "                         moves.append([1,3])     \n",
    "    if len(first) == len(third) and len(first) != 0 and len(third) !=0:                   \n",
    "                  if (state[0])[0] > (state[2])[0]:\n",
    "                         moves.append([3,1])\n",
    "                  elif (state[0])[0] < (state[2])[0]:\n",
    "                         moves.append([1,3])  \n",
    "    if len(second) == len(third) and len(second) != 0 and len(third) !=0:   \n",
    "                  if (state[1])[0] > (state[2])[0]:\n",
    "                         moves.append([3,2])\n",
    "                  elif (state[1])[0] < (state[2])[0]:\n",
    "                         moves.append([2,3])                   \n",
    "    if len(first) == len(second) and len(first) != 0 and len(second) !=0:\n",
    "                  if (state[0])[0] > (state[1])[0]:\n",
    "                         moves.append([2,1])\n",
    "                  elif (state[0])[0] < (state[1])[0]:\n",
    "                         moves.append([1,2]) \n",
    "              \n",
    "\n",
    "    return moves\n",
    "state = [[], [4], [1,2,3]]\n",
    "validMoves_4disk(state)"
   ]
  },
  {
   "cell_type": "code",
   "execution_count": 21,
   "metadata": {
    "collapsed": true
   },
   "outputs": [],
   "source": [
    "def makeMove_4disk(state, move):\n",
    "    temp = copy.deepcopy(state)\n",
    "    #print(temp)\n",
    "    element = state[move[0]-1][0]\n",
    "    #print(element)\n",
    "    del temp[move[0]-1][0]\n",
    "    #print(tempstate[move[0]][0])\n",
    "    temp[move[1]-1].insert(0,element)\n",
    "    return(temp)"
   ]
  },
  {
   "cell_type": "code",
   "execution_count": 22,
   "metadata": {
    "collapsed": true
   },
   "outputs": [],
   "source": [
    "def stateMoveTuple(state, move):\n",
    "    move_temp = copy.deepcopy(move)\n",
    "    temp = []\n",
    "    for peg in state:\n",
    "        \n",
    "        if peg != []:\n",
    "            temp.append(tuple(peg))\n",
    "        else:\n",
    "            temp.append(tuple())\n",
    "\n",
    "    return(tuple([tuple(temp)]) + tuple([tuple(move_temp)]))"
   ]
  },
  {
   "cell_type": "code",
   "execution_count": 23,
   "metadata": {
    "collapsed": true
   },
   "outputs": [],
   "source": [
    "# used the same function used in class\n",
    "def epsilonGreedy(epsilon, Q, state):\n",
    "    validMove = validMoves_4disk(state)\n",
    "\n",
    "    if np.random.uniform() < epsilon:       \n",
    "        # Random Move\n",
    "        return validMove[randint(0, len(validMove)-1)]\n",
    "    else:\n",
    "        # Greedy Move\n",
    "        Qs = np.array([Q.get(stateMoveTuple(state, move), 0) for move in validMove]) \n",
    "        return validMove[ np.argmin(Qs) ]\n",
    "\n",
    "    "
   ]
  },
  {
   "cell_type": "code",
   "execution_count": 24,
   "metadata": {
    "collapsed": true
   },
   "outputs": [],
   "source": [
    "def winner_4disk(state):\n",
    "    final_state = [[], [], [1,2,3,4]]\n",
    "    if state == final_state:\n",
    "        return True\n",
    "    "
   ]
  },
  {
   "cell_type": "code",
   "execution_count": 25,
   "metadata": {
    "collapsed": true
   },
   "outputs": [],
   "source": [
    "def trainQ(nRepetitions, learningRate, epsilonDecayFactor, validMoves, makeMove):\n",
    "    global Q    \n",
    "    maxGames = nRepetitions\n",
    "    rho = learningRate\n",
    "    epsilonDecayRate = epsilonDecayFactor\n",
    "    epsilon = 1\n",
    "    Q = {}   \n",
    "    Stepstogoal = []\n",
    "    for nGames in range(maxGames):\n",
    "        epsilon *= epsilonDecayRate\n",
    "        step = 0\n",
    "        state = [[1,2,3,4], [], []] #  start state\n",
    "        done = False\n",
    "        while not done:        \n",
    "            step += 1\n",
    "            move = epsilonGreedy(epsilon, Q, state)\n",
    "            nextState = makeMove_4disk(state,move) \n",
    "            if winner_4disk(nextState):\n",
    "                Q[stateMoveTuple(state, move)] = 0\n",
    "                done = True\n",
    "            if stateMoveTuple(state, move) not in Q:\n",
    "                Q[stateMoveTuple(state, move)] = -1  # initial Q value for new state,move\n",
    "            if step > 1:\n",
    "                Q[stateMoveTuple(stateOld, moveOld)] += rho * (1+Q[stateMoveTuple(state, move)] - Q[stateMoveTuple(stateOld, moveOld)])\n",
    "            stateOld, moveOld = state, move \n",
    "            state = nextState\n",
    "        Stepstogoal.append(step)\n",
    "    return Q,Stepstogoal"
   ]
  },
  {
   "cell_type": "code",
   "execution_count": 26,
   "metadata": {
    "collapsed": false
   },
   "outputs": [],
   "source": [
    "def testQ(Q, maxSteps, validMovesF, makeMoveF):\n",
    "    state = [[1,2,3,4], [], []] #  start state\n",
    "    newState = []\n",
    "    while(1):\n",
    "        validmoves = validMoves_4disk(state)\n",
    "        for move in validmoves:\n",
    "            Qs = np.array([Q.get(stateMoveTuple(state, move), 0) for move in validmoves]) \n",
    "        move = validmoves[np.argmin(Qs)]    \n",
    "        newstate = makeMove_4disk(state, move)\n",
    "        newState.append(newstate)\n",
    "        if winner_4disk(newstate):\n",
    "            break\n",
    "        state = newstate\n",
    "    return newState\n",
    "\n"
   ]
  },
  {
   "cell_type": "code",
   "execution_count": 27,
   "metadata": {
    "collapsed": false
   },
   "outputs": [
    {
     "data": {
      "text/plain": [
       "[[1, 3], [2, 3], [1, 2]]"
      ]
     },
     "execution_count": 27,
     "metadata": {},
     "output_type": "execute_result"
    }
   ],
   "source": [
    "state = [[2, 3], [4], [1]]\n",
    "validMoves([[1], [2], [3]])"
   ]
  },
  {
   "cell_type": "code",
   "execution_count": 28,
   "metadata": {
    "collapsed": false
   },
   "outputs": [
    {
     "data": {
      "text/plain": [
       "[[], [1, 4], [2, 3]]"
      ]
     },
     "execution_count": 28,
     "metadata": {},
     "output_type": "execute_result"
    }
   ],
   "source": [
    "move = [0,1]\n",
    "newstate = makeMove([[], [4], [1, 2, 3]], [3, 2])\n",
    "\n",
    "\n",
    "newstate"
   ]
  },
  {
   "cell_type": "code",
   "execution_count": 29,
   "metadata": {
    "collapsed": false
   },
   "outputs": [
    {
     "name": "stdout",
     "output_type": "stream",
     "text": [
      "238\n"
     ]
    }
   ],
   "source": [
    "Q, stepsToGoal = trainQ(50, 0.5, 0.7, validMoves_4disk, makeMove_4disk)\n",
    "print(len(Q))"
   ]
  },
  {
   "cell_type": "code",
   "execution_count": null,
   "metadata": {
    "collapsed": false
   },
   "outputs": [],
   "source": [
    "path = testQ(Q, 20, validMoves_4disk, makeMove_4disk)\n",
    "for s in path:\n",
    "    printState(s)\n",
    "    print()"
   ]
  },
  {
   "cell_type": "code",
   "execution_count": null,
   "metadata": {
    "collapsed": true
   },
   "outputs": [],
   "source": []
  }
 ],
 "metadata": {
  "anaconda-cloud": {},
  "kernelspec": {
   "display_name": "Python [default]",
   "language": "python",
   "name": "python3"
  },
  "language_info": {
   "codemirror_mode": {
    "name": "ipython",
    "version": 3
   },
   "file_extension": ".py",
   "mimetype": "text/x-python",
   "name": "python",
   "nbconvert_exporter": "python",
   "pygments_lexer": "ipython3",
   "version": "3.5.2"
  }
 },
 "nbformat": 4,
 "nbformat_minor": 2
}
