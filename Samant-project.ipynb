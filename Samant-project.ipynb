{
 "cells": [
  {
   "cell_type": "markdown",
   "metadata": {},
   "source": [
    "# Project - Implementing a Self-balancing robot using Adaptive-Neuro Fuzzy Inference System and Reinforcement Learning"
   ]
  },
  {
   "cell_type": "markdown",
   "metadata": {},
   "source": [
    "Yashad Samant"
   ]
  },
  {
   "cell_type": "code",
   "execution_count": 1,
   "metadata": {},
   "outputs": [],
   "source": [
    "import numpy as np\n",
    "import matplotlib as plt\n",
    "import anfis as anfis\n",
    "from IPython.display import Image\n",
    "import skfuzzy as fuzz\n",
    "import anfis\n",
    "import membershipfunction as mfunc\n",
    "import mfDerivs as mfd\n",
    "from IPython.display import Image\n",
    "%matplotlib inline"
   ]
  },
  {
   "cell_type": "markdown",
   "metadata": {},
   "source": [
    "### Data Extraction"
   ]
  },
  {
   "cell_type": "code",
   "execution_count": 2,
   "metadata": {},
   "outputs": [
    {
     "name": "stdout",
     "output_type": "stream",
     "text": [
      "(88588, 6)\n"
     ]
    }
   ],
   "source": [
    "data = np.loadtxt(\"C:/Users/Yashad/Desktop/git/Artificial-Intelligence/AI_project/acc_gyro.csv\", dtype = str, delimiter=',', usecols = range(5,11))\n",
    "data = np.chararray.strip(data[0:],'b')\n",
    "data = np.chararray.strip(data[0:],\"'\\'\")\n",
    "names = data[0]\n",
    "np.delete(data,1)\n",
    "X = data[1:,:]\n",
    "X = np.asarray(X,dtype=float)\n",
    "print(X.shape)\n",
    "T = np.ones(88588)"
   ]
  },
  {
   "cell_type": "markdown",
   "metadata": {},
   "source": [
    "### ANFIS"
   ]
  },
  {
   "cell_type": "code",
   "execution_count": null,
   "metadata": {},
   "outputs": [
    {
     "data": {
      "image/jpeg": "[encoded data removed]",
      "text/plain": [
       "<IPython.core.display.Image object>"
      ]
     },
     "execution_count": 3,
     "metadata": {},
     "output_type": "execute_result"
    }
   ],
   "source": [
    "Image(\"C:/Users/Yashad/Desktop/Books/machine learning/image010.jpg\")"
   ]
  },
  {
   "cell_type": "code",
   "execution_count": null,
   "metadata": {},
   "outputs": [],
   "source": [
    "mf = [[['gaussmf',{'mean':-5.3,'sigma':1.5}],['gaussmf',{'mean':-2.8,'sigma':1.5}],['gaussmf',{'mean':0.5,'sigma':1.5}],['gaussmf',{'mean':2.5,'sigma':1.5}],['gaussmf',{'mean':3.5,'sigma':1.5}],['gaussmf',{'mean':4.8,'sigma':1.5}]],\n",
    "     [['gaussmf',{'mean':-2.66,'sigma':1.5}],['gaussmf',{'mean':-0.65,'sigma':1.5}],['gaussmf',{'mean':2.75,'sigma':1.5}]],\n",
    "     [['gaussmf',{'mean':-2.66,'sigma':1.5}],['gaussmf',{'mean':-0.65,'sigma':1.5}],['gaussmf',{'mean':2.75,'sigma':1.5}]],\n",
    "     [['gaussmf',{'mean':-3.5,'sigma':1.5}],['gaussmf',{'mean':-0.95,'sigma':1.5}],['gaussmf',{'mean':1.2,'sigma':1.5}], ['gaussmf',{'mean':3.5,'sigma':1.5}]],\n",
    "     [['gaussmf',{'mean':-9.5,'sigma':2.0}],['gaussmf',{'mean':-6.5,'sigma':2.0}],['gaussmf',{'mean':-3.5,'sigma':2.0}],['gaussmf',{'mean':-0.5,'sigma':2.0}],['gaussmf',{'mean':2.5,'sigma':2.0}],['gaussmf',{'mean':5.5,'sigma':2.0}],['gaussmf',{'mean':8.5,'sigma':2.0}]],\n",
    "     [['gaussmf',{'mean':-9.5,'sigma':2.0}],['gaussmf',{'mean':-6.5,'sigma':2.0}],['gaussmf',{'mean':-3.5,'sigma':2.0}],['gaussmf',{'mean':-0.5,'sigma':2.0}],['gaussmf',{'mean':2.5,'sigma':2.0}],['gaussmf',{'mean':5.5,'sigma':2.0}],['gaussmf',{'mean':8.5,'sigma':2.0}]]]\n",
    "mfc = mfunc.MemFuncs(mf)\n",
    "anf = anfis.ANFIS(X, T, mfc)\n",
    "anf.trainHybridJangOffLine(epochs=5)\n",
    "print (round(anf.consequents[-1][0],6))\n",
    "print (round(anf.consequents[-2][0],6))\n",
    "print (round(anf.fittedValues[9][0],6))\n",
    "\n",
    "anf.plotErrors()\n",
    "anf.plotResults() \n",
    "\n",
    "anf.plotMF(X[:,0],len(mf)) "
   ]
  },
  {
   "cell_type": "code",
   "execution_count": null,
   "metadata": {},
   "outputs": [],
   "source": []
  },
  {
   "cell_type": "code",
   "execution_count": null,
   "metadata": {},
   "outputs": [],
   "source": []
  }
 ],
 "metadata": {
  "anaconda-cloud": {},
  "kernelspec": {
   "display_name": "Python [conda root]",
   "language": "python",
   "name": "conda-root-py"
  },
  "language_info": {
   "codemirror_mode": {
    "name": "ipython",
    "version": 3
   },
   "file_extension": ".py",
   "mimetype": "text/x-python",
   "name": "python",
   "nbconvert_exporter": "python",
   "pygments_lexer": "ipython3",
   "version": "3.5.2"
  }
 },
 "nbformat": 4,
 "nbformat_minor": 1
}
