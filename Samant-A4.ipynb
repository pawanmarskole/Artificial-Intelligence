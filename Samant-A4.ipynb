{
 "cells": [
  {
   "cell_type": "markdown",
   "metadata": {},
   "source": [
    "# Assignment 4: Negamax with Alpha-Beta Pruning and Iterative Deepening"
   ]
  },
  {
   "cell_type": "markdown",
   "metadata": {},
   "source": [
    "Yashad Samant"
   ]
  },
  {
   "cell_type": "markdown",
   "metadata": {},
   "source": [
    "# Table of Contents\n",
    "* [Assignment 4: Negamax with Alpha-Beta Pruning and Iterative Deepening](#Assignment-4:-Negamax-with-Alpha-Beta-Pruning-and-Iterative-Deepening)\n",
    "    * [Overview](#Overview)\n",
    "\t* [Required Code](#Initial-Code)\n",
    "        * [negamax](#negamax)\n",
    "        * [negamaxIDS](#negamaxIDS)\n",
    "        * [negamaxIDSab](#negamaxIDSab)\n",
    "        * [EBF](#ebf)\n",
    "        * [constructor TTT](#TTT)\n",
    "        * [playgame functions](#playgame)\n",
    "    * [Results](#Results)\n",
    "\t* [Grading](#Grading)\n",
    "\t* [Extra Credit](#Extra-Credit)\n"
   ]
  },
  {
   "cell_type": "markdown",
   "metadata": {},
   "source": [
    "## Overview\n",
    "\n",
    "In this assignment, we implement various variations of negamax algorithms like plain negamax, negamax with iterative depth search and negamax with alpha beta pruning. We also compare the results obtained from all the three algorithms to check for the best algorithm on the basis of efficiency. We compare the results based on the effective branching factor. "
   ]
  },
  {
   "cell_type": "markdown",
   "metadata": {},
   "source": [
    "## Required Code "
   ]
  },
  {
   "cell_type": "markdown",
   "metadata": {},
   "source": [
    "## NEGAMAX"
   ]
  },
  {
   "cell_type": "code",
   "execution_count": 1,
   "metadata": {
    "collapsed": true
   },
   "outputs": [],
   "source": [
    "def negamax(game, depthLeft):\n",
    "    # If at terminal state or depth limit, return utility value and move None\n",
    "    if game.isOver() or depthLeft == 0:\n",
    "        return game.getUtility(), None # call to negamax knows the move\n",
    "    # Find best move and its value from current state\n",
    "    bestValue, bestMove = None, None\n",
    "    for move in game.getMoves():\n",
    "        #print ('moves', move)\n",
    "        # Apply a move to current state\n",
    "        game.makeMove(move)\n",
    "        # Use depth-first search to find eventual utility value and back it up.\n",
    "        #  Negate it because it will come back in context of next player\n",
    "        value, _ = negamax(game, depthLeft-1)\n",
    "        # Remove the move from current state, to prepare for trying a different move\n",
    "        game.unmakeMove(move)\n",
    "        if value is None:\n",
    "            continue\n",
    "        value = - value\n",
    "        if bestValue is None or value > bestValue:\n",
    "            # Value for this move is better than moves tried so far from this state.\n",
    "            bestValue, bestMove = value, move\n",
    "    return bestValue, bestMove"
   ]
  },
  {
   "cell_type": "markdown",
   "metadata": {},
   "source": [
    "### NEGAMAXIDS"
   ]
  },
  {
   "cell_type": "code",
   "execution_count": 2,
   "metadata": {
    "collapsed": false
   },
   "outputs": [],
   "source": [
    "def negamaxIDS(game, maxDepth):\n",
    "#   iterated the negamax algorithm till the max depth is reached or if the depth is 0.\n",
    "    for depth in range(maxDepth):\n",
    "        value, move = negamax(game, depth)\n",
    "#   checked for none values because negamax returns none if values are not updated.\n",
    "        if value is not None:      \n",
    "            return [value, move]"
   ]
  },
  {
   "cell_type": "markdown",
   "metadata": {},
   "source": [
    "### NEGAMAXIDSab"
   ]
  },
  {
   "cell_type": "code",
   "execution_count": 12,
   "metadata": {
    "collapsed": false
   },
   "outputs": [],
   "source": [
    "def negamaxIDSab(game, depthLeft):\n",
    "    alpha = -float(\"inf\")\n",
    "    beta = float(\"inf\")\n",
    "    temp = 0.0\n",
    "    bestScore = 0\n",
    "    # If at terminal state or depth limit, return utility value and move None\n",
    "    if game.isOver() or depthLeft == 0:\n",
    "        return game.getUtility(), None # call to negamax knows the move\n",
    "    # Find best move and its value from current state\n",
    "    bestValue, bestMove = None, None\n",
    "    for move in game.getMoves():\n",
    "        #print ('moves', move)\n",
    "        # Apply a move to current state\n",
    "        temp = -alpha\n",
    "        alpha = -beta\n",
    "        beta = temp\n",
    "        game.makeMove(move)\n",
    "\n",
    "        # Use depth-first search to find eventual utility value and back it up.\n",
    "        #  Negate it because it will come back in context of next player\n",
    "        value, _ = negamaxIDSab(game, depthLeft-1)\n",
    "        # Remove the move from current state, to prepare for trying a different move\n",
    "        game.unmakeMove(move)\n",
    "        if value is None:\n",
    "            continue\n",
    "        value = - value\n",
    "        if value>=beta:\n",
    "            return [bestValue, bestMove]\n",
    "        alpha = max(value,alpha)\n",
    "        if bestValue is None or value > bestValue:\n",
    "            # Value for this move is better than moves tried so far from this state.\n",
    "            bestValue, bestMove = value, move\n",
    "        \n",
    "    return [bestValue, bestMove]"
   ]
  },
  {
   "cell_type": "markdown",
   "metadata": {},
   "source": [
    "In the code below,\n",
    "* Initialize all the necessary variables and make copies of nNodes so that we don't use updated values.\n",
    "* Check if the number of nodes and depth is less than 0 and return 0 if it is so. This signifies that we dont have any branching.\n",
    "* Now to iterate to find the optimum branching factor, we first start by taking the average of 0 and number of nodes thus limiting ebf between them.\n",
    "* Next, we apply formula to find potential ebf.\n",
    "* Save the values in dummy variables initialized before and make changes to reduce the ebf value or increase it based on the obtained b.\n",
    "* return final value"
   ]
  },
  {
   "cell_type": "markdown",
   "metadata": {},
   "source": [
    "### EBF"
   ]
  },
  {
   "cell_type": "code",
   "execution_count": 4,
   "metadata": {
    "collapsed": true
   },
   "outputs": [],
   "source": [
    "def ebf(nNodes, depth, precision=0.01):\n",
    "    minvalue=0\n",
    "    maxvalue=nNodes\n",
    "    maxrange=nNodes\n",
    "    finalebf=1\n",
    "    evalue=0\n",
    "    final_ev=0\n",
    "    #if depth > 0:\n",
    "        #return 'failure'\n",
    "    if nNodes<=0 or depth<0:\n",
    "        return 0.0\n",
    "  \n",
    "    while minvalue<=maxvalue:\n",
    "        b=(minvalue+maxvalue)/2\n",
    "        if b!=1:\n",
    "            evalue = (1-(b**(depth+1)))/(1-b)\n",
    "        r=abs(evalue-nNodes)\n",
    "        if r<maxrange:\n",
    "            maxrange=r\n",
    "            final_ev=evalue\n",
    "            finalebf=b\n",
    "        if r<precision:\n",
    "            return finalebf\n",
    "            \n",
    "        if evalue<nNodes:\n",
    "            minvalue=b\n",
    "        if evalue>nNodes:\n",
    "            maxvalue=b\n"
   ]
  },
  {
   "cell_type": "markdown",
   "metadata": {},
   "source": [
    "We have defined a constructor, where the board and players are initialized. We also define functions to find the numerical locations, get necessary moves, check if one has won or not, change players and count number of nodes."
   ]
  },
  {
   "cell_type": "markdown",
   "metadata": {},
   "source": [
    "## TTT"
   ]
  },
  {
   "cell_type": "code",
   "execution_count": 5,
   "metadata": {
    "collapsed": false
   },
   "outputs": [],
   "source": [
    "class TTT(object):\n",
    "\n",
    "    def __init__(self):\n",
    "        self.board = [' ']*9\n",
    "        self.player = 'X'\n",
    "        if False:\n",
    "            self.board = ['X', 'X', ' ', 'X', 'O', 'O', ' ', ' ', ' ']\n",
    "            self.player = 'O'\n",
    "        self.playerLookAHead = self.player\n",
    "        self.movesExplored = 0 \n",
    "\n",
    "    def locations(self, c):\n",
    "        #print ([i for i, mark in enumerate(self.board) if mark == c])\n",
    "        return [i for i, mark in enumerate(self.board) if mark == c]\n",
    "\n",
    "    def getMoves(self):\n",
    "        moves = self.locations(' ')\n",
    "        #print (moves)\n",
    "        return moves\n",
    "\n",
    "    def getUtility(self):\n",
    "        whereX = self.locations('X')\n",
    "        whereO = self.locations('O')\n",
    "        wins = [[0, 1, 2], [3, 4, 5], [6, 7, 8],\n",
    "                [0, 3, 6], [1, 4, 7], [2, 5, 8],\n",
    "                [0, 4, 8], [2, 4, 6]]\n",
    "        isXWon = any([all([wi in whereX for wi in w]) for w in wins])\n",
    "        isOWon = any([all([wi in whereO for wi in w]) for w in wins])\n",
    "        if isXWon:\n",
    "            return 1 if self.playerLookAHead is 'X' else -1\n",
    "        elif isOWon:\n",
    "            return 1 if self.playerLookAHead is 'O' else -1\n",
    "        elif ' ' not in self.board:\n",
    "            return 0\n",
    "        else:\n",
    "            return None  ########################################################## CHANGED FROM -0.1\n",
    "\n",
    "    def isOver(self):\n",
    "        return self.getUtility() is not None\n",
    "\n",
    "    def makeMove(self, move):\n",
    "        self.movesExplored+=1\n",
    "        self.board[move] = self.playerLookAHead\n",
    "        self.playerLookAHead = 'X' if self.playerLookAHead == 'O' else 'O'\n",
    "\n",
    "    def changePlayer(self):\n",
    "        self.player = 'X' if self.player == 'O' else 'O'\n",
    "        self.playerLookAHead = self.player\n",
    "\n",
    "    def unmakeMove(self, move):\n",
    "        self.board[move] = ' '\n",
    "        self.playerLookAHead = 'X' if self.playerLookAHead == 'O' else 'O'\n",
    "        \n",
    "    def getNumberMovesExplored(self):\n",
    "        return self.movesExplored\n",
    "\n",
    "    def __str__(self):\n",
    "        s = '{}|{}|{}\\n-----\\n{}|{}|{}\\n-----\\n{}|{}|{}'.format(*self.board)\n",
    "        return s"
   ]
  },
  {
   "cell_type": "markdown",
   "metadata": {},
   "source": [
    "### PLAYGAME"
   ]
  },
  {
   "cell_type": "code",
   "execution_count": 6,
   "metadata": {
    "collapsed": true
   },
   "outputs": [],
   "source": [
    "def opponent(board):\n",
    "    return board.index(' ')\n",
    "\n",
    "def playGame(game,opponent,depthLimit):\n",
    "    print(game)\n",
    "    while not game.isOver():\n",
    "        #score,move = negamax(game,depthLimit)\n",
    "        score, move  = negamax(game,depthLimit)\n",
    "        if move == None :\n",
    "            print('move is None. Stopping.')\n",
    "            break\n",
    "        game.makeMove(move)\n",
    "        print('Player', game.player, 'to', move, 'for score' ,score)\n",
    "        print(game)\n",
    "        if not game.isOver():\n",
    "            game.changePlayer()\n",
    "            opponentMove = opponent(game.board)\n",
    "            game.makeMove(opponentMove)\n",
    "            print('Player', game.player, 'to', opponentMove)   ### FIXED ERROR IN THIS LINE!\n",
    "            print(game)\n",
    "            game.changePlayer()\n",
    "    print(game.getNumberMovesExplored())\n",
    "    depth = 0\n",
    "    x=0\n",
    "    for location in game.board:\n",
    "        if location != ' ':\n",
    "            depth+=1\n",
    "        if location == 'X':\n",
    "            x+=1\n",
    "    #print(depth)\n",
    "    print('negamaxIDSab made', x, 'moves with ebf(',game.getNumberMovesExplored(),',',depth,') is', ebf(game.getNumberMovesExplored(),depth,precision=0.01))"
   ]
  },
  {
   "cell_type": "code",
   "execution_count": 7,
   "metadata": {
    "collapsed": true
   },
   "outputs": [],
   "source": [
    "def playGameIDS(game,opponent,depthLimit):\n",
    "    print(game)\n",
    "    while not game.isOver():\n",
    "        #score,move = negamax(game,depthLimit)\n",
    "        score, move  = negamaxIDS(game,depthLimit)\n",
    "        if move == None :\n",
    "            print('move is None. Stopping.')\n",
    "            break\n",
    "        game.makeMove(move)\n",
    "        print('Player', game.player, 'to', move, 'for score' ,score)\n",
    "        print(game)\n",
    "        if not game.isOver():\n",
    "            game.changePlayer()\n",
    "            opponentMove = opponent(game.board)\n",
    "            game.makeMove(opponentMove)\n",
    "            print('Player', game.player, 'to', opponentMove)   ### FIXED ERROR IN THIS LINE!\n",
    "            print(game)\n",
    "            game.changePlayer()\n",
    "    print(game.getNumberMovesExplored())      \n",
    "    x=0\n",
    "    depth = 0\n",
    "    for location in game.board:\n",
    "        if location != ' ':\n",
    "            depth+=1\n",
    "        if location == 'X':\n",
    "            x+=1\n",
    "    #print(depth)\n",
    "    print('negamaxIDSab made', x, 'moves with ebf(',game.getNumberMovesExplored(),',',depth,') is', ebf(game.getNumberMovesExplored(),depth,precision=0.01))"
   ]
  },
  {
   "cell_type": "code",
   "execution_count": 8,
   "metadata": {
    "collapsed": false
   },
   "outputs": [],
   "source": [
    "def playGameIDSab(game,opponent,depthLimit):\n",
    "    print(game)\n",
    "    while not game.isOver():\n",
    "        #score,move = negamax(game,depthLimit)\n",
    "        score, move  = negamaxIDSab(game,depthLimit)\n",
    "        if move == None :\n",
    "            print('move is None. Stopping.')\n",
    "            break\n",
    "        game.makeMove(move)\n",
    "        print('Player', game.player, 'to', move, 'for score' ,score)\n",
    "        print(game)\n",
    "        if not game.isOver():\n",
    "            game.changePlayer()\n",
    "            opponentMove = opponent(game.board)\n",
    "            game.makeMove(opponentMove)\n",
    "            print('Player', game.player, 'to', opponentMove)   ### FIXED ERROR IN THIS LINE!\n",
    "            print(game)\n",
    "            game.changePlayer()\n",
    "    depth = 0\n",
    "    x=0\n",
    "    for location in game.board:\n",
    "        if location != ' ':\n",
    "            depth+=1\n",
    "        if location == 'X':\n",
    "            x+=1\n",
    "    #print(depth)\n",
    "    #print(game.getNumberMovesExplored())\n",
    "    print('negamaxIDSab made', x, 'moves with ebf(',game.getNumberMovesExplored(),',',depth,') is', ebf(game.getNumberMovesExplored(),depth,precision=0.01))"
   ]
  },
  {
   "cell_type": "code",
   "execution_count": 15,
   "metadata": {
    "collapsed": false
   },
   "outputs": [
    {
     "name": "stdout",
     "output_type": "stream",
     "text": [
      "_______________________________NEGAMAX_______________________________________\n",
      " \n",
      " | | \n",
      "-----\n",
      " | | \n",
      "-----\n",
      " | | \n",
      "Player X to 0 for score 0\n",
      "X| | \n",
      "-----\n",
      " | | \n",
      "-----\n",
      " | | \n",
      "Player O to 1\n",
      "X|O| \n",
      "-----\n",
      " | | \n",
      "-----\n",
      " | | \n",
      "Player X to 3 for score 1\n",
      "X|O| \n",
      "-----\n",
      "X| | \n",
      "-----\n",
      " | | \n",
      "Player O to 2\n",
      "X|O|O\n",
      "-----\n",
      "X| | \n",
      "-----\n",
      " | | \n",
      "Player X to 4 for score 1\n",
      "X|O|O\n",
      "-----\n",
      "X|X| \n",
      "-----\n",
      " | | \n",
      "Player O to 5\n",
      "X|O|O\n",
      "-----\n",
      "X|X|O\n",
      "-----\n",
      " | | \n",
      "Player X to 6 for score 1\n",
      "X|O|O\n",
      "-----\n",
      "X|X|O\n",
      "-----\n",
      "X| | \n",
      "558334\n",
      "negamaxIDSab made 4 moves with ebf( 558334 , 7 ) is 6.464860577546915\n"
     ]
    }
   ],
   "source": [
    "print('_______________________________NEGAMAX_______________________________________')\n",
    "print(' ')\n",
    "game = TTT()\n",
    "playGame(game,opponent,20)"
   ]
  },
  {
   "cell_type": "code",
   "execution_count": 14,
   "metadata": {
    "collapsed": false
   },
   "outputs": [
    {
     "name": "stdout",
     "output_type": "stream",
     "text": [
      "_______________________________NEGAMAXIDS_______________________________________\n",
      " \n",
      " | | \n",
      "-----\n",
      " | | \n",
      "-----\n",
      " | | \n",
      "Player X to 0 for score 1\n",
      "X| | \n",
      "-----\n",
      " | | \n",
      "-----\n",
      " | | \n",
      "Player O to 1\n",
      "X|O| \n",
      "-----\n",
      " | | \n",
      "-----\n",
      " | | \n",
      "Player X to 3 for score 1\n",
      "X|O| \n",
      "-----\n",
      "X| | \n",
      "-----\n",
      " | | \n",
      "Player O to 2\n",
      "X|O|O\n",
      "-----\n",
      "X| | \n",
      "-----\n",
      " | | \n",
      "Player X to 6 for score 1\n",
      "X|O|O\n",
      "-----\n",
      "X| | \n",
      "-----\n",
      "X| | \n",
      "23338\n",
      "negamaxIDSab made 3 moves with ebf( 23338 , 5 ) is 7.256620558095165\n"
     ]
    }
   ],
   "source": [
    "print('_______________________________NEGAMAXIDS_______________________________________')\n",
    "print(' ')\n",
    "game = TTT()\n",
    "playGameIDS(game,opponent,20)"
   ]
  },
  {
   "cell_type": "code",
   "execution_count": 13,
   "metadata": {
    "collapsed": false
   },
   "outputs": [
    {
     "name": "stdout",
     "output_type": "stream",
     "text": [
      "_______________________________NEGAMAXIDSab_______________________________________\n",
      " \n",
      " | | \n",
      "-----\n",
      " | | \n",
      "-----\n",
      " | | \n",
      "Player X to 0 for score 0\n",
      "X| | \n",
      "-----\n",
      " | | \n",
      "-----\n",
      " | | \n",
      "Player O to 1\n",
      "X|O| \n",
      "-----\n",
      " | | \n",
      "-----\n",
      " | | \n",
      "Player X to 2 for score 0\n",
      "X|O|X\n",
      "-----\n",
      " | | \n",
      "-----\n",
      " | | \n",
      "Player O to 3\n",
      "X|O|X\n",
      "-----\n",
      "O| | \n",
      "-----\n",
      " | | \n",
      "Player X to 4 for score 0\n",
      "X|O|X\n",
      "-----\n",
      "O|X| \n",
      "-----\n",
      " | | \n",
      "Player O to 5\n",
      "X|O|X\n",
      "-----\n",
      "O|X|O\n",
      "-----\n",
      " | | \n",
      "Player X to 6 for score 1\n",
      "X|O|X\n",
      "-----\n",
      "O|X|O\n",
      "-----\n",
      "X| | \n",
      "negamaxIDSab made 4 moves with ebf( 1506 , 7 ) is 2.659096598625183\n"
     ]
    }
   ],
   "source": [
    "print('_______________________________NEGAMAXIDSab_______________________________________')\n",
    "print(' ')\n",
    "game = TTT()\n",
    "playGameIDSab(game,opponent,20)"
   ]
  },
  {
   "cell_type": "markdown",
   "metadata": {},
   "source": []
  },
  {
   "cell_type": "markdown",
   "metadata": {},
   "source": [
    "Here are some example results. <font color='red'>Updated October 8, 3:15pm </font>"
   ]
  },
  {
   "cell_type": "code",
   "execution_count": 16,
   "metadata": {
    "collapsed": false
   },
   "outputs": [
    {
     "name": "stdout",
     "output_type": "stream",
     "text": [
      " | | \n",
      "-----\n",
      " | | \n",
      "-----\n",
      " | | \n",
      "Player X to 0 for score 0\n",
      "X| | \n",
      "-----\n",
      " | | \n",
      "-----\n",
      " | | \n",
      "Player O to 1\n",
      "X|O| \n",
      "-----\n",
      " | | \n",
      "-----\n",
      " | | \n",
      "Player X to 2 for score 0\n",
      "X|O|X\n",
      "-----\n",
      " | | \n",
      "-----\n",
      " | | \n",
      "Player O to 3\n",
      "X|O|X\n",
      "-----\n",
      "O| | \n",
      "-----\n",
      " | | \n",
      "Player X to 4 for score 0\n",
      "X|O|X\n",
      "-----\n",
      "O|X| \n",
      "-----\n",
      " | | \n",
      "Player O to 5\n",
      "X|O|X\n",
      "-----\n",
      "O|X|O\n",
      "-----\n",
      " | | \n",
      "Player X to 6 for score 1\n",
      "X|O|X\n",
      "-----\n",
      "O|X|O\n",
      "-----\n",
      "X| | \n",
      "negamaxIDSab made 4 moves with ebf( 1506 , 7 ) is 2.659096598625183\n"
     ]
    }
   ],
   "source": [
    "game = TTT()\n",
    "playGameIDSab(game, opponent, 10)"
   ]
  },
  {
   "cell_type": "markdown",
   "metadata": {},
   "source": [
    "### RESULTS\n",
    "\n",
    "* We can see that negamax itself explored more than 0.5 million nodes and took about 4 moves to get the output with a ebf around 6.\n",
    "* IDS was much better negamax exploring just 23k nodes which is a respectable reduction to negamax. It also had an ebf of 7.\n",
    "* IDSab was the best where it explored just 1k moves thus reducing time and ebf was around 2.\n",
    "\n",
    "Thus, we can conclude that IDSab was the best method for tic tac toe. It might vary for other games. But when there are many possibilities to explore, IDSab is the clear choice as it reduces time significantly putting less pressure on the processor. "
   ]
  },
  {
   "cell_type": "markdown",
   "metadata": {},
   "source": [
    "## Grading"
   ]
  },
  {
   "cell_type": "markdown",
   "metadata": {},
   "source": [
    "As always, download and extract from [A4grader.tar](http://www.cs.colostate.edu/~anderson/cs440/notebooks/A4grader.tar)"
   ]
  },
  {
   "cell_type": "code",
   "execution_count": null,
   "metadata": {
    "collapsed": false
   },
   "outputs": [
    {
     "name": "stdout",
     "output_type": "stream",
     "text": [
      "\n",
      "Testing negamax starting from ['O', 'X', ' ', 'O', ' ', ' ', ' ', 'X', ' ']\n",
      "\n",
      "--- 10/10 points. negamax correctly returns value of 1\n",
      "\n",
      "--- 10/10 points. negamax correctly explored 124 states.\n",
      "\n",
      "Testing negamax starting from ['O', 'X', 'X', 'O', 'O', ' ', ' ', 'X', ' ']\n",
      "\n",
      "--- 10/10 points. negamax correctly returns value of -1 and move of 5\n",
      "\n",
      "Testing negamaxIDS with max depth of 5, starting from ['O', 'X', 'X', 'O', 'O', ' ', ' ', 'X', ' ']\n",
      "\n",
      "--- 10/10 points. negamaxIDS correctly returns value of -1 and move of 5\n",
      "\n",
      "Testing negamaxIDSab starting from ['O', 'X', 'X', 'O', 'O', ' ', ' ', 'X', ' ']\n",
      "\n",
      "--- 20/20 points. negamaxIDSab correctly returns value of -1 and move of 5\n",
      "\n",
      "Testing playGame with opponent that always plays in highest numbered position.\n",
      " | | \n",
      "-----\n",
      " | | \n",
      "-----\n",
      " | | \n"
     ]
    }
   ],
   "source": [
    "%run -i A4grader.py"
   ]
  },
  {
   "cell_type": "code",
   "execution_count": null,
   "metadata": {
    "collapsed": true
   },
   "outputs": [],
   "source": []
  }
 ],
 "metadata": {
  "anaconda-cloud": {},
  "kernelspec": {
   "display_name": "Python [default]",
   "language": "python",
   "name": "python3"
  },
  "language_info": {
   "codemirror_mode": {
    "name": "ipython",
    "version": 3
   },
   "file_extension": ".py",
   "mimetype": "text/x-python",
   "name": "python",
   "nbconvert_exporter": "python",
   "pygments_lexer": "ipython3",
   "version": "3.5.2"
  }
 },
 "nbformat": 4,
 "nbformat_minor": 2
}
