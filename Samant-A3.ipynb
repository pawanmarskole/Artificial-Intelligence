{
 "cells": [
  {
   "cell_type": "markdown",
   "metadata": {},
   "source": [
    "# Assignment3: A\\*, IDS, and Effective Branching Factor"
   ]
  },
  {
   "cell_type": "markdown",
   "metadata": {},
   "source": [
    "Yashad Samant"
   ]
  },
  {
   "cell_type": "markdown",
   "metadata": {},
   "source": [
    "## OVERVIEW"
   ]
  },
  {
   "cell_type": "markdown",
   "metadata": {},
   "source": [
    "For this assignment, implement the Recursive Best-First Search using A* algorithm given in class while also implementing the iterative deep learning algorithm done in assignment 2. We have also implemented effective branching factor based on the number of nodes and depth of the problem. Then, we print the data obtained in table form.\n",
    "\n",
    "\n",
    "## REQUIRED CODE\n",
    "\n",
    "   - `aStarSearch(startState, actionsF, takeActionF, goalTestF, hF)`\n",
    "   - `iterativeDeepeningSearch(startState, goalState, actionsF, takeActionF, maxDepth)`\n",
    "   - `ebf(nNodes, depth, precision=0.01)`, returns number of nodes expanded and depth reached during a search.\n",
    "\n",
    "Apply `iterativeDeepeningSearch` and `aStarSearch` to several eight-tile sliding puzzle\n",
    "problems. For this you must include your implementations of these functions, from Assignment 2:\n",
    "\n",
    "Here, we have defined six functions.\n",
    "* printState_8p - This function converts the original list in an array form so that we can get the exact position of the blank space.\n",
    "\n",
    "* findBlank_8p - This function iterates through the array and find the blank space.\n",
    "\n",
    "* actionState_8p - It is responsible for finding the valid actions based on the blank space. It's just made out of different checks.\n",
    "\n",
    "* takeAction_8p - Based on the obtained valid action, it just swaps the position with the corresponding element and returns the list.\n",
    "\n",
    "* goalTestF_8p - Returns true if goal == state\n",
    "\n",
    "* findIndex - Used in heuristic functions to get the two dimensional index of the list.\n",
    "\n",
    "\n",
    " - runExperiment(goalState1, goalState2, goalState3, [h1, h2, h3]) is used to format the data.\n",
    "   \n"
   ]
  },
  {
   "cell_type": "markdown",
   "metadata": {},
   "source": [
    "## DESIRED OUTPUT"
   ]
  },
  {
   "cell_type": "markdown",
   "metadata": {},
   "source": [
    "Apply all four algorithms (`iterativeDeepeningSearch` plus `aStarSearch` with the three heuristic\n",
    "functions) to three eight-tile puzzle problems with start state\n",
    "\n",
    "$$\n",
    "\\begin{array}{ccc}\n",
    "1 & 2 & 3\\\\\n",
    "4 & 0 & 5\\\\\n",
    "6 & 7 & 8\n",
    "\\end{array}\n",
    "$$\n",
    "\n",
    "and these three goal states.\n",
    "\n",
    "$$\n",
    "\\begin{array}{ccccccccccc}\n",
    "1 & 2 & 3  & ~~~~ & 1 & 2 & 3  &  ~~~~ & 1 & 0 &  3\\\\\n",
    "4 & 0 & 5  & & 4 & 5 & 8  & & 4 & 5 & 8\\\\\n",
    "6 & 7 & 8 &  & 6 & 0 & 7  & & 2 & 6 & 7\n",
    "\\end{array}\n",
    "$$"
   ]
  },
  {
   "cell_type": "markdown",
   "metadata": {},
   "source": [
    "Print a well-formatted table like the following.  Try to match this\n",
    "format. \n",
    "\n",
    "           [1, 2, 3, 4, 0, 5, 6, 7, 8]    [1, 2, 3, 4, 5, 8, 6, 0, 7]    [1, 0, 3, 4, 5, 8, 2, 6, 7] \n",
    "    Algorithm    Depth  Nodes  EBF              Depth  Nodes  EBF              Depth  Nodes  EBF          \n",
    "         IDS       0      0  0.000                3     43  3.086               11 225850  2.954         \n",
    "        A*h1       0      0  0.000                3    116  4.488               11 643246  3.263         \n",
    "        A*h2       0      0  0.000                3     51  3.297               11 100046  2.733         \n",
    "\n",
    "Of course you will have one more line for `h3`."
   ]
  },
  {
   "cell_type": "markdown",
   "metadata": {},
   "source": [
    "Insert your functions here."
   ]
  },
  {
   "cell_type": "code",
   "execution_count": 1,
   "metadata": {
    "collapsed": false
   },
   "outputs": [],
   "source": [
    "# from A3mysolution import *\n",
    "# Importing libraries\n",
    "import numpy as np\n",
    "import copy as copy\n",
    "import math\n",
    "import pandas\n"
   ]
  },
  {
   "cell_type": "markdown",
   "metadata": {},
   "source": [
    "Depth Limited search algorithm computes the result based on other functions. \n",
    "* Initially, there are few checks to avoid integer, tuple errors.\n",
    "* Then, there is an iteration to the number of valid actions. We try to find the best child state by recursively using the depthLimitedSearch function within the for loop, so it tests for every action.\n",
    "* Then, we check is there is a cutoff or failure, if not we append the obtained child state in the result and return it.\n",
    "\n",
    "Iterative Limited Search just calls the depth limited search function iteratively until the max depth is reached. We decrease the max depth within the depth limited search function\n"
   ]
  },
  {
   "cell_type": "code",
   "execution_count": 2,
   "metadata": {
    "collapsed": false
   },
   "outputs": [],
   "source": [
    "count_itr=0\n",
    "def depthLimitedSearch(state, goalState, actionsF, takeActionF, depthLimit):\n",
    "    \n",
    "    global count_itr\n",
    "    if type(state[0]) == int:\n",
    "        state = printState_8p(state)\n",
    "    if type(goalState[0]) == int:\n",
    "        goalState = printState_8p(goalState)\n",
    "    if state == goalState:\n",
    "        return []\n",
    "    if depthLimit == 0:\n",
    "        return 'cutoff'\n",
    "    cutoffOccurred = False\n",
    "    for action in actionsF(state):\n",
    "        count_itr+=1\n",
    "        childState,_ = takeActionF(state, action)\n",
    "        result = depthLimitedSearch(childState, goalState, actionsF, takeActionF, depthLimit-1)\n",
    "        if result == 'cutoff':\n",
    "            cutoffOccurred = True\n",
    "        elif result != 'failure':\n",
    "            result.insert(0,childState)\n",
    "            return result\n",
    "    \n",
    "    if cutoffOccurred:\n",
    "        return 'cutoff'\n",
    "    else:\n",
    "        return 'failure'       \n",
    "\n",
    "def iterativeDeepeningSearch(startState, goalState, actionsF, takeActionF, maxDepth):\n",
    "    if type(startState[0]) == int:\n",
    "        startState = printState_8p(startState)\n",
    "    if type(goalState[0]) == int:\n",
    "        goalState = printState_8p(goalState)\n",
    "    for depth in range(maxDepth):\n",
    "        result = depthLimitedSearch(startState, goalState, actionsF, takeActionF, depth)\n",
    "        if result is 'failure':\n",
    "            return 'failure'\n",
    "        if result is not 'cutoff':\n",
    "\n",
    "            if type(startState) == str:\n",
    "                result.insert(0,startState) \n",
    "            else:\n",
    "                state = [item for sublist in startState for item in sublist]\n",
    "                result.insert(0,state)   \n",
    "            #print('result', result)\n",
    "            return result\n",
    "    return 'cutoff'\n"
   ]
  },
  {
   "cell_type": "markdown",
   "metadata": {},
   "source": [
    "## 8-puzzle problem\n",
    "\n",
    "Here, we have defined six functions.\n",
    "* printState_8p - This function converts the original list in an array form so that we can get the exact position of the blank space.\n",
    "\n",
    "* findBlank_8p - This function iterates through the array and find the blank space.\n",
    "\n",
    "* actionState_8p - It is responsible for finding the valid actions based on the blank space. It's just made out of different checks.\n",
    "\n",
    "* takeAction_8p - Based on the obtained valid action, it just swaps the position with the corresponding element and returns the list.\n",
    "\n",
    "* goalTestF_8p - Returns true if goal == state\n",
    "\n",
    "* findIndex - Used in heuristic functions to get the two dimensional index of the list."
   ]
  },
  {
   "cell_type": "code",
   "execution_count": 3,
   "metadata": {
    "collapsed": false
   },
   "outputs": [],
   "source": [
    "def printState_8p(startState):\n",
    "    state = [[startState[0],startState[1],startState[2]],[startState[3],startState[4],startState[5]],[startState[6],startState[7],startState[8]]]\n",
    "    return state\n",
    "\n",
    "def findBlank_8p(state):\n",
    "    i = 0\n",
    "    j = 0\n",
    "    if type(state[0]) == int:\n",
    "        state = printState_8p(state)\n",
    "    for subi in state:\n",
    "        for subj in subi:\n",
    "            if state[i][j] == 0:\n",
    "                return i,j\n",
    "            j=j+1\n",
    "        i=i+1\n",
    "        j = 0\n",
    "    i = 0\n",
    "\n",
    "def findIndex_8p(state,index):\n",
    "    k = 0\n",
    "    for i in range(3):\n",
    "        for j in range(3):\n",
    "            if state[k]==index:\n",
    "                return i,j\n",
    "            k= k+1\n",
    "\n",
    "def actionsF_8p(state):\n",
    "    action_list = [('left',1), ('right',1), ('up',1),('down',1)]\n",
    "    if type(state[0]) == int:\n",
    "        state = printState_8p(state)    \n",
    "    i,j = findBlank_8p(state)\n",
    "    if i == 0 and j == 0:\n",
    "        valid_action = [action_list[1], action_list[3]]\n",
    "    if i == 2 and j == 2:\n",
    "        valid_action = [action_list[0], action_list[2]]\n",
    "    if i == 0 and j == 2:\n",
    "        valid_action = [action_list[0], action_list[3]]\n",
    "    if i == 2 and j == 0:\n",
    "        valid_action = [action_list[1], action_list[2]]\n",
    "    if  i == 1 and j == 0:\n",
    "        valid_action = [action_list[1], action_list[2], action_list[3]]\n",
    "    if i == 1 and j ==2:\n",
    "        valid_action = [action_list[0], action_list[2], action_list[3]]\n",
    "    if i == 0 and j == 1:\n",
    "        valid_action = [action_list[0], action_list[1], action_list[3]]\n",
    "    if i == 2 and j == 1:\n",
    "        valid_action = [action_list[0], action_list[1], action_list[2]]\n",
    "    if i == 1 and j == 1:\n",
    "        valid_action = [action_list[0], action_list[1], action_list[2], action_list[3]]\n",
    "    \n",
    "    return valid_action\n",
    "\n",
    "def takeActionF_8p(state2, action):\n",
    "    if type(state2[0]) == int:\n",
    "        state2 = printState_8p(state2)\n",
    "    state1 = copy.deepcopy(state2)\n",
    "    i,j = findBlank_8p(state1)\n",
    "    if action == (('left',1)):\n",
    "        temp = state1[i][j-1]\n",
    "        state1[i][j-1] = state1[i][j]\n",
    "        state1[i][j] = temp\n",
    "        state1 = [item for sublist in state1 for item in sublist]\n",
    "        return state1,1\n",
    "    if action == (('right',1)):\n",
    "        temp = state1[i][j+1]\n",
    "        state1[i][j+1] = state1[i][j]\n",
    "        state1[i][j] = temp\n",
    "        state1 = [item for sublist in state1 for item in sublist]\n",
    "        return state1,1\n",
    "    if action == (('up',1)):\n",
    "        temp = state1[i-1][j]\n",
    "        state1[i-1][j] = state1[i][j]\n",
    "        state1[i][j] = temp\n",
    "        state1= [item for sublist in state1 for item in sublist]\n",
    "        return state1, 1\n",
    "    if action == (('down',1)):\n",
    "        temp = state1[i+1][j]\n",
    "        state1[i+1][j] = state1[i][j]\n",
    "        state1[i][j] = temp\n",
    "        state1 = [item for sublist in state1 for item in sublist]\n",
    "        #print('state1', state1)\n",
    "        return state1, 1\n",
    "\n",
    "def goalTestF_8p(s, goal):\n",
    "    return s == goal\n",
    "\n",
    "def printPath_8p(startState, goalState, path):\n",
    "    print(path)\n",
    "    for p in path: \n",
    "        print (\"\\n\",p[0],p[1],p[2],\"\\n\",p[3],p[4],p[5],\"\\n\",p[6],p[7],p[8])\n",
    "        \n",
    "\n",
    "        \n",
    "    "
   ]
  },
  {
   "cell_type": "markdown",
   "metadata": {},
   "source": [
    "## Heuristic Functions\n",
    "\n",
    "For `aStarSearch`, I have defined four heuristics, first where h = 0, manhattan distance, rms and hamming distance  \n",
    "\n",
    "  * `h1_8p(state, goal)`: $h(state, goal) = 0$, for all states $state$ and all goal states $goal$,\n",
    "  * `h2_8p(state, goal)`: $h(state, goal) = m$, where $m$ is the Manhattan distance that the blank is from its goal position,\n",
    "  * `h3_8p(state, goal)`: $h(state, goal) = sd$, where sd is the rms value obtained.\n",
    "  * 'h4_8p(state,goal)' : $h(state, goal) = h$, where h is the hamming distance"
   ]
  },
  {
   "cell_type": "code",
   "execution_count": 4,
   "metadata": {
    "collapsed": false
   },
   "outputs": [],
   "source": [
    "def h1_8p(state, goal):                              # '0' heuristic function\n",
    "    return 0 \n",
    "\n",
    "def h2_8p(state, goal):                              # Manhattan distance\n",
    "    m = 0\n",
    "    for x in range (len(state)):\n",
    "        i, j = findIndex_8p(state,x)\n",
    "        s,t = findIndex_8p(goal,x)\n",
    "        m = abs(s-i)+abs(t-j)\n",
    "    return m\n",
    "\n",
    "def h3_8p(state, goal):                             # root mean square\n",
    "    sd = 0\n",
    "    for x in range (len(state)):\n",
    "        i, j = findIndex_8p(state,x)\n",
    "        s,t = findIndex_8p(goal,x)\n",
    "        sd = math.sqrt(math.pow((s-i),2)+math.pow((t-j),2))\n",
    "    return sd\n",
    "\n",
    "def h4_8p(state, goal):                             # hamming distance\n",
    "    h = 0\n",
    "    for i in range (len(state)):\n",
    "        if state.index(i)!=goal.index(i):\n",
    "            h = h+1\n",
    "        return h"
   ]
  },
  {
   "cell_type": "markdown",
   "metadata": {},
   "source": [
    "In the code below,\n",
    "* Initialize all the necessary variables and make copies of nNodes so that we don't use updated values.\n",
    "* Check if the number of nodes and depth is less than 0 and return 0 if it is so. This signifies that we dont have any branching.\n",
    "* Now to iterate to find the optimum branching factor, we first start by taking the average of 0 and number of nodes thus limiting ebf between them.\n",
    "* Next, we apply formula to find potential ebf.\n",
    "* Save the values in dummy variables initialized before and make changes to reduce the ebf value or increase it based on the obtained b.\n",
    "* return final value"
   ]
  },
  {
   "cell_type": "code",
   "execution_count": 5,
   "metadata": {
    "collapsed": true
   },
   "outputs": [],
   "source": [
    "def ebf(nNodes, depth, precision=0.01):\n",
    "    minvalue=0\n",
    "    maxvalue=nNodes\n",
    "    maxrange=nNodes\n",
    "    finalebf=1\n",
    "    evalue=0\n",
    "    final_ev=0\n",
    "    #if depth > 0:\n",
    "        #return 'failure'\n",
    "    if nNodes<=0 or depth<0:\n",
    "        return 0.0\n",
    "  \n",
    "    while minvalue<=maxvalue:\n",
    "        b=(minvalue+maxvalue)/2\n",
    "        if b!=1:\n",
    "            evalue = (1-(b**(depth+1)))/(1-b)\n",
    "        r=abs(evalue-nNodes)\n",
    "        if r<maxrange:\n",
    "            maxrange=r\n",
    "            final_ev=evalue\n",
    "            finalebf=b\n",
    "        if r<precision:\n",
    "            return finalebf\n",
    "            \n",
    "        if evalue<nNodes:\n",
    "            minvalue=b\n",
    "        if evalue>nNodes:\n",
    "            maxvalue=b\n"
   ]
  },
  {
   "cell_type": "markdown",
   "metadata": {},
   "source": [
    "## A* SEARCH ALGORITHM"
   ]
  },
  {
   "cell_type": "code",
   "execution_count": 6,
   "metadata": {
    "collapsed": false
   },
   "outputs": [
    {
     "name": "stdout",
     "output_type": "stream",
     "text": [
      "Path from a to h is ['a', 'b', 'd', 'h'] for a cost of 3\n"
     ]
    }
   ],
   "source": [
    "# Recursive Best First Search (Figure 3.26, Russell and Norvig)\n",
    "#  Recursive Iterative Deepening form of A*, where depth is replaced by f(n)\n",
    "count_astar = 0\n",
    "class Node:\n",
    "    def __init__(self, state, f=0, g=0 ,h=0):\n",
    "        \n",
    "        self.state = state\n",
    "        self.f = f\n",
    "        self.g = g\n",
    "        self.h = h\n",
    "    def __repr__(self):\n",
    "        return \"Node(\" + repr(self.state) + \", f=\" + repr(self.f) + \\\n",
    "               \", g=\" + repr(self.g) + \", h=\" + repr(self.h) + \")\"\n",
    "\n",
    "def aStarSearch(startState, actionsF, takeActionF, goalTestF, hF):\n",
    "\n",
    "    h = hF(startState)\n",
    "    startNode = Node(state=startState, f=0+h, g=0, h=h)\n",
    "    return aStarSearchHelper(startNode, actionsF, takeActionF, goalTestF, hF, float('inf'))\n",
    "\n",
    "def aStarSearchHelper(parentNode, actionsF, takeActionF, goalTestF, hF, fmax):\n",
    "    global count_astar\n",
    "    #count_astar = 0\n",
    "    if goalTestF(parentNode.state):\n",
    "        return ([parentNode.state], parentNode.g)\n",
    "    ## Construct list of children nodes with f, g, and h values\n",
    "    actions = actionsF(parentNode.state)\n",
    "    if not actions:\n",
    "        return (\"failure\", float('inf'))\n",
    "    children = []\n",
    "    for action in actions:\n",
    "        count_astar+=1\n",
    "        (childState,stepCost) = takeActionF(parentNode.state, action)\n",
    "        h = hF(childState)\n",
    "        g = parentNode.g + stepCost\n",
    "        f = max(h+g, parentNode.f)\n",
    "        childNode = Node(state=childState, f=f, g=g, h=h)\n",
    "        children.append(childNode)\n",
    "    while True:\n",
    "        # find best child\n",
    "        children.sort(key = lambda n: n.f) # sort by f value\n",
    "        bestChild = children[0]\n",
    "        if bestChild.f > fmax:\n",
    "            return (\"failure\",bestChild.f)\n",
    "        # next lowest f value\n",
    "        alternativef = children[1].f if len(children) > 1 else float('inf')\n",
    "        # expand best child, reassign its f value to be returned value\n",
    "        result,bestChild.f = aStarSearchHelper(bestChild, actionsF, takeActionF, goalTestF,\n",
    "                                            hF, min(fmax,alternativef))\n",
    "        if result is not \"failure\":               #        g\n",
    "            result.insert(0,parentNode.state)     #       / \n",
    "            return (result, bestChild.f)          #      d\n",
    "                                                  #     / \\ \n",
    "if __name__ == \"__main__\":                        #    b   h   \n",
    "                                                  #   / \\   \n",
    "    successors = {'a': ['b','c'],                 #  a   e  \n",
    "                  'b': ['d','e'],                 #   \\         \n",
    "                  'c': ['f'],                     #    c   i\n",
    "                  'd': ['g', 'h'],                #     \\ / \n",
    "                  'f': ['i','j']}                 #      f  \n",
    "    def actionsF(s):                              #       \\ \n",
    "        try:                                      #        j\n",
    "            ## step cost of each action is 1\n",
    "            return [(succ,1) for succ in successors[s]]\n",
    "        except KeyError:\n",
    "            return []\n",
    "    def takeActionF(s,a):\n",
    "        return a\n",
    "    def goalTestF(s):\n",
    "        return s == goal\n",
    "    def h1(s):\n",
    "        return 0\n",
    "    start = 'a'\n",
    "    goal = 'h'\n",
    "    result = aStarSearch(start,actionsF,takeActionF,goalTestF,h1)\n",
    "    print('Path from a to h is', result[0], 'for a cost of', result[1])"
   ]
  },
  {
   "cell_type": "markdown",
   "metadata": {},
   "source": [
    "In this function, we are ust accumulating all the data by calling all the funtions designed above and print in a particular format"
   ]
  },
  {
   "cell_type": "code",
   "execution_count": 7,
   "metadata": {
    "collapsed": false
   },
   "outputs": [
    {
     "name": "stdout",
     "output_type": "stream",
     "text": [
      "[1, 2, 3, 4, 0, 5, 6, 7, 8]\n",
      "\n",
      "Algorithm   Depth   Nodes   ebf\n",
      "IDS            0       0    0.0\n",
      "  astar_h            0       0    0.0\n",
      "  astar_h            0       0    0.0\n",
      "  astar_h            0       0    0.0\n",
      "  astar_h            0       0    0.0\n",
      "[1, 2, 3, 4, 5, 8, 6, 0, 7]\n",
      "\n",
      "Algorithm   Depth   Nodes   ebf\n",
      "IDS            3       43    3.0857696533203125\n",
      "  astar_h            3       116    4.487663269042969\n",
      "  astar_h            3       46    3.1680450439453125\n",
      "  astar_h            3       46    3.1680450439453125\n",
      "  astar_h            3       41    3.029205322265625\n",
      "[1, 0, 3, 4, 5, 8, 2, 6, 7]\n",
      "\n",
      "Algorithm   Depth   Nodes   ebf\n",
      "IDS            11       225850    2.953883095619858\n",
      "  astar_h            11       643246    3.262755963483812\n",
      "  astar_h            11       190817    2.906762674106403\n",
      "  astar_h            11       331528    3.063842615192243\n",
      "  astar_h            11       368646    3.0949094382415865\n"
     ]
    }
   ],
   "source": [
    "h1 = h1_8p\n",
    "h2 = h2_8p\n",
    "h3 = h3_8p\n",
    "h4 = h4_8p\n",
    "h = [h1, h2, h3, h4]\n",
    "goalState1 = [1, 2, 3, 4, 0, 5, 6, 7, 8]         \n",
    "goalState2 = [1, 2, 3, 4, 5, 8, 6, 0, 7]\n",
    "goalState3 = [1, 0, 3, 4, 5, 8, 2, 6, 7]\n",
    "\n",
    "def runExperiment(goalState1, goalState2, goalState3, h):\n",
    "    global count_itr\n",
    "    global count_astar\n",
    "    goals = [goalState1, goalState2, goalState3]\n",
    "    for g in goals:\n",
    "        count_itr = 0\n",
    "        result_itr = iterativeDeepeningSearch([1, 2, 3, 4, 0, 5, 6, 7, 8], g, actionsF_8p, takeActionF_8p, 15)\n",
    "        depth_itr = len(result_itr)-1\n",
    "        ebf_itr = ebf(count_itr, depth_itr, 0.01)\n",
    "        print (g)\n",
    "        print('')\n",
    "        print('Algorithm', ' ', 'Depth', ' ', 'Nodes', ' ', 'ebf')\n",
    "        print ('IDS', '          ', depth_itr,'     ',count_itr,'  ', ebf_itr)\n",
    "        for h_f in h:\n",
    "            count_astar = 0\n",
    "            result_astar = aStarSearch([1, 2, 3, 4, 0, 5, 6, 7, 8],actionsF_8p, takeActionF_8p,\n",
    "            lambda s: goalTestF_8p(s, g),\n",
    "            lambda s: h_f(s, g))\n",
    "            depth_astar = result_astar[1]\n",
    "            ebf_astar = ebf(count_astar, depth_astar, 0.01)\n",
    "            print (' ', 'astar_h' , '          ', depth_astar,'     ',count_astar,'  ', ebf_astar)\n",
    "runExperiment(goalState1, goalState2, goalState3, h)   \n"
   ]
  },
  {
   "cell_type": "markdown",
   "metadata": {},
   "source": [
    "## RESULTS\n",
    "\n",
    "* We can observe that both iterative and A* gets the solution in the same number of steps.\n",
    "* But we can see A* is much more extensive than iterative because of the number of nodes explored. But we can also observe that depending on the heuristic function the complexity of the algorithm changes. Thus, heuristic function becomes very important. Accuracy and optimization is solely dependent on this factor. EBF is the measure of these factors.\n",
    "* Both seem to take similar amount of time on CPU. Probably a larger problem or higher precision would habe given us a better idea."
   ]
  },
  {
   "cell_type": "code",
   "execution_count": 8,
   "metadata": {
    "collapsed": false
   },
   "outputs": [
    {
     "data": {
      "text/plain": [
       "(['a', 'b', 'd', 'h'], 3)"
      ]
     },
     "execution_count": 8,
     "metadata": {},
     "output_type": "execute_result"
    }
   ],
   "source": [
    "result"
   ]
  },
  {
   "cell_type": "code",
   "execution_count": 9,
   "metadata": {
    "collapsed": false
   },
   "outputs": [
    {
     "data": {
      "text/plain": [
       "368646"
      ]
     },
     "execution_count": 9,
     "metadata": {},
     "output_type": "execute_result"
    }
   ],
   "source": [
    "ebf(count_astar, result[1],0.01)\n",
    "count_astar"
   ]
  },
  {
   "cell_type": "markdown",
   "metadata": {},
   "source": [
    "The smallest argument values should be a depth of 0, and 1 node."
   ]
  },
  {
   "cell_type": "code",
   "execution_count": 10,
   "metadata": {
    "collapsed": false
   },
   "outputs": [
    {
     "data": {
      "text/plain": [
       "0.5"
      ]
     },
     "execution_count": 10,
     "metadata": {},
     "output_type": "execute_result"
    }
   ],
   "source": [
    "ebf(1, 0)"
   ]
  },
  {
   "cell_type": "code",
   "execution_count": 11,
   "metadata": {
    "collapsed": false
   },
   "outputs": [
    {
     "data": {
      "text/plain": [
       "1.0078125"
      ]
     },
     "execution_count": 11,
     "metadata": {},
     "output_type": "execute_result"
    }
   ],
   "source": [
    "ebf(2, 1)"
   ]
  },
  {
   "cell_type": "code",
   "execution_count": 12,
   "metadata": {
    "collapsed": false
   },
   "outputs": [
    {
     "data": {
      "text/plain": [
       "1.0000009536743164"
      ]
     },
     "execution_count": 12,
     "metadata": {},
     "output_type": "execute_result"
    }
   ],
   "source": [
    "ebf(2, 1, precision=0.000001)"
   ]
  },
  {
   "cell_type": "code",
   "execution_count": 13,
   "metadata": {
    "collapsed": false
   },
   "outputs": [
    {
     "data": {
      "text/plain": [
       "11.275596989435144"
      ]
     },
     "execution_count": 13,
     "metadata": {},
     "output_type": "execute_result"
    }
   ],
   "source": [
    "ebf(200000, 5)"
   ]
  },
  {
   "cell_type": "code",
   "execution_count": 14,
   "metadata": {
    "collapsed": false
   },
   "outputs": [
    {
     "data": {
      "text/plain": [
       "1.234819248452368"
      ]
     },
     "execution_count": 14,
     "metadata": {},
     "output_type": "execute_result"
    }
   ],
   "source": [
    "ebf(200000, 50)"
   ]
  },
  {
   "cell_type": "markdown",
   "metadata": {},
   "source": [
    "Here is a simple example using our usual simple graph search."
   ]
  },
  {
   "cell_type": "code",
   "execution_count": 15,
   "metadata": {
    "collapsed": true
   },
   "outputs": [],
   "source": [
    "def actionsF_simple(state):\n",
    "    succs = {'a': ['b', 'c'], 'b':['a'], 'c':['h'], 'h':['i'], 'i':['j', 'k', 'l'], 'k':['z']}\n",
    "    return [(s, 1) for s in succs.get(state, [])]\n",
    "\n",
    "def takeActionF_simple(state, action):\n",
    "    return action\n",
    "\n",
    "def goalTestF_simple(state, goal):\n",
    "    return state == goal\n",
    "\n",
    "def h_simple(state, goal):\n",
    "    return 1"
   ]
  },
  {
   "cell_type": "code",
   "execution_count": 16,
   "metadata": {
    "collapsed": false
   },
   "outputs": [
    {
     "data": {
      "text/plain": [
       "[('b', 1), ('c', 1)]"
      ]
     },
     "execution_count": 16,
     "metadata": {},
     "output_type": "execute_result"
    }
   ],
   "source": [
    "actions = actionsF_simple('a')\n",
    "actions"
   ]
  },
  {
   "cell_type": "code",
   "execution_count": 17,
   "metadata": {
    "collapsed": false
   },
   "outputs": [
    {
     "data": {
      "text/plain": [
       "('b', 1)"
      ]
     },
     "execution_count": 17,
     "metadata": {},
     "output_type": "execute_result"
    }
   ],
   "source": [
    "takeActionF_simple('a', actions[0])"
   ]
  },
  {
   "cell_type": "code",
   "execution_count": 18,
   "metadata": {
    "collapsed": false
   },
   "outputs": [
    {
     "data": {
      "text/plain": [
       "True"
      ]
     },
     "execution_count": 18,
     "metadata": {},
     "output_type": "execute_result"
    }
   ],
   "source": [
    "goalTestF_simple('a', 'a')"
   ]
  },
  {
   "cell_type": "code",
   "execution_count": 19,
   "metadata": {
    "collapsed": false
   },
   "outputs": [
    {
     "data": {
      "text/plain": [
       "1"
      ]
     },
     "execution_count": 19,
     "metadata": {},
     "output_type": "execute_result"
    }
   ],
   "source": [
    "h_simple('a', 'z')"
   ]
  },
  {
   "cell_type": "code",
   "execution_count": 20,
   "metadata": {
    "collapsed": false
   },
   "outputs": [
    {
     "data": {
      "text/plain": [
       "['a', 'c', 'h', 'i', 'k', 'z']"
      ]
     },
     "execution_count": 20,
     "metadata": {},
     "output_type": "execute_result"
    }
   ],
   "source": [
    "iterativeDeepeningSearch('a', 'z', actionsF_simple, takeActionF_simple, 10)"
   ]
  },
  {
   "cell_type": "code",
   "execution_count": 21,
   "metadata": {
    "collapsed": false
   },
   "outputs": [
    {
     "data": {
      "text/plain": [
       "(['a', 'c', 'h', 'i', 'k', 'z'], 5)"
      ]
     },
     "execution_count": 21,
     "metadata": {},
     "output_type": "execute_result"
    }
   ],
   "source": [
    "aStarSearch('a',actionsF_simple, takeActionF_simple,\n",
    "            lambda s: goalTestF_simple(s, 'z'),\n",
    "            lambda s: h_simple(s, 'z'))"
   ]
  },
  {
   "cell_type": "markdown",
   "metadata": {},
   "source": [
    "Download [A3grader.tar](http://www.cs.colostate.edu/~anderson/cs440/notebooks/A3grader.tar) and extract A3grader.py from it."
   ]
  },
  {
   "cell_type": "code",
   "execution_count": 22,
   "metadata": {
    "collapsed": false
   },
   "outputs": [
    {
     "name": "stdout",
     "output_type": "stream",
     "text": [
      "\n",
      "Testing actionsF_8p([1, 2, 3, 4, 5, 6, 7, 0, 8])\n",
      "\n",
      "--- 5/5 points. Your actionsF_8p correctly returned [('left', 1), ('right', 1), ('up', 1)]\n",
      "\n",
      "Testing takeActionF_8p([1, 2, 3, 4, 5, 6, 7, 0, 8], (up, 1))\n",
      "\n",
      "--- 5/5 points. Your takeActionsF_8p correctly returned ([1, 2, 3, 4, 0, 6, 7, 5, 8], 1)\n",
      "\n",
      "Testing goalTestF_8p([1, 2, 3, 4, 5, 6, 7, 0, 8], [1, 2, 3, 4, 5, 6, 7, 0, 8])\n",
      "\n",
      "--- 5/5 points. Your goalTestF_8p correctly True\n",
      "\n",
      "Testing aStarSearch([1, 2, 3, 4, 5, 6, 7, 0, 8],\n",
      "                     actionsF_8p, takeActionF_8p,\n",
      "                     lambda s: goalTestF_8p(s, [0, 2, 3, 1, 4,  6, 7, 5, 8]),\n",
      "                     lambda s: h1_8p(s, [0, 2, 3, 1, 4,  6, 7, 5, 8]))\n",
      "\n",
      "--- 20/20 points. Your search correctly returned ([[1, 2, 3, 4, 5, 6, 7, 0, 8], [1, 2, 3, 4, 0, 6, 7, 5, 8], [1, 2, 3, 0, 4, 6, 7, 5, 8], [0, 2, 3, 1, 4, 6, 7, 5, 8]], 3)\n",
      "\n",
      "Testing iterativeDeepeningSearch([5, 2, 8, 0, 1, 4, 3, 7, 6], \n",
      "                                 [0, 2, 3, 1, 4,  6, 7, 5, 8],\n",
      "                                 actionsF_8p, takeActionF_8p, 10)\n",
      "\n",
      "--- 15/15 points. Your search correctly returned cutoff\n",
      "\n",
      "C:\\Users\\Yashad\\Desktop\\Books\\AI Grade is 50/50\n"
     ]
    }
   ],
   "source": [
    "%run -i A3grader.py"
   ]
  },
  {
   "cell_type": "code",
   "execution_count": null,
   "metadata": {
    "collapsed": true
   },
   "outputs": [],
   "source": []
  }
 ],
 "metadata": {
  "anaconda-cloud": {},
  "kernelspec": {
   "display_name": "Python [conda root]",
   "language": "python",
   "name": "conda-root-py"
  },
  "language_info": {
   "codemirror_mode": {
    "name": "ipython",
    "version": 3
   },
   "file_extension": ".py",
   "mimetype": "text/x-python",
   "name": "python",
   "nbconvert_exporter": "python",
   "pygments_lexer": "ipython3",
   "version": "3.5.2"
  }
 },
 "nbformat": 4,
 "nbformat_minor": 1
}
